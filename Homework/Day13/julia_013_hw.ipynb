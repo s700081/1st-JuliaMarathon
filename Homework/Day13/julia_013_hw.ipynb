{
 "cells": [
  {
   "cell_type": "markdown",
   "metadata": {},
   "source": [
    "## Day 013 作業1：用 Julia 標準函式寫 Sigmoid Function\n",
    "\n",
    "在 Day 002 時我們曾用 LaTeX 撰寫機器學習常見的激活函式 Sigmoid\n",
    "\n",
    "$\\Large f(x)=\\frac{1}{1+e^{-x}}$\n",
    "\n",
    "作業 1 請使用內建函式 `exp()` 來撰寫 Sigmoid 函式，計算矩陣的 sigmoid 值。"
   ]
  },
  {
   "cell_type": "markdown",
   "metadata": {},
   "source": [
    "例如：數字 3 的 sigmoid 值。"
   ]
  },
  {
   "cell_type": "code",
   "execution_count": 1,
   "metadata": {},
   "outputs": [
    {
     "data": {
      "text/plain": [
       "0.9525741268224334"
      ]
     },
     "execution_count": 1,
     "metadata": {},
     "output_type": "execute_result"
    }
   ],
   "source": [
    "1 / (1 + exp(-3))"
   ]
  },
  {
   "cell_type": "markdown",
   "metadata": {},
   "source": [
    "宣告及建立矩陣"
   ]
  },
  {
   "cell_type": "code",
   "execution_count": 2,
   "metadata": {},
   "outputs": [
    {
     "data": {
      "text/plain": [
       "3×5 Array{Int64,2}:\n",
       " 1  10  3  4   6\n",
       " 4   2  4  5  10\n",
       " 8   5  3  5   9"
      ]
     },
     "execution_count": 2,
     "metadata": {},
     "output_type": "execute_result"
    }
   ],
   "source": [
    "A = Matrix([1 10 3 4 6; 4 2 4 5 10; 8 5 3 5 9])"
   ]
  },
  {
   "cell_type": "code",
   "execution_count": 3,
   "metadata": {},
   "outputs": [
    {
     "data": {
      "text/plain": [
       "3×5 Array{Float64,2}:\n",
       " 0.731059  0.999955  0.952574  0.982014  0.997527\n",
       " 0.982014  0.880797  0.982014  0.993307  0.999955\n",
       " 0.999665  0.993307  0.952574  0.993307  0.999877"
      ]
     },
     "execution_count": 3,
     "metadata": {},
     "output_type": "execute_result"
    }
   ],
   "source": [
    "# 請在此撰寫計算 sigmoid\n",
    "sigmoid(x) = 1 ./ (1 + exp(-x))\n",
    "sigmoid.(A)"
   ]
  },
  {
   "cell_type": "markdown",
   "metadata": {},
   "source": [
    "## 作業2：線性代數基礎運算 Matrix Multiplication 及 Addition\n",
    "\n",
    "假設 A 是 $n\\times m$ 的矩陣，B 是 $m\\times p$ 的矩陣，則矩陣乘法的積 AB 是 $\\displaystyle n\\times p$ 的矩陣。\n",
    "\n",
    "作業2 請撰寫程式，隨機產生矩陣 $W$ 及 $X$，計算線性方程式 $WX+b$。\n",
    "\n",
    "【提示】點運算的介紹，可回顧 Day 005 內容及範例。"
   ]
  },
  {
   "cell_type": "code",
   "execution_count": 4,
   "metadata": {},
   "outputs": [
    {
     "data": {
      "text/plain": [
       "1"
      ]
     },
     "execution_count": 4,
     "metadata": {},
     "output_type": "execute_result"
    }
   ],
   "source": [
    "# 給定 bias 變數值\n",
    "# 這邊給定的是純量，在矩陣加法中透過 broadcasting 進行加法\n",
    "b = 1"
   ]
  },
  {
   "cell_type": "code",
   "execution_count": 5,
   "metadata": {},
   "outputs": [
    {
     "data": {
      "text/plain": [
       "5×10 Array{Float64,2}:\n",
       " 0.557387   0.303039  0.26397   0.989966  …  0.00117684  0.649109   0.0201676\n",
       " 0.0145143  0.961106  0.348394  0.366526     0.0936692   0.768193   0.38429\n",
       " 0.795632   0.248887  0.322609  0.961094     0.630051    0.438992   0.219167\n",
       " 0.117017   0.781662  0.386057  0.549191     0.37487     0.0227046  0.586084\n",
       " 0.354982   0.474683  0.628642  0.779613     0.252161    0.988333   0.0486443"
      ]
     },
     "execution_count": 5,
     "metadata": {},
     "output_type": "execute_result"
    }
   ],
   "source": [
    "w = rand(5,10) # 請在此撰寫程式"
   ]
  },
  {
   "cell_type": "code",
   "execution_count": 6,
   "metadata": {},
   "outputs": [
    {
     "data": {
      "text/plain": [
       "10×15 Array{Float64,2}:\n",
       " 0.02355   0.671725  0.494904   0.889013   …  0.116002  0.823988  0.773534\n",
       " 0.336043  0.645706  0.568225   0.689951      0.82716   0.699248  0.57262\n",
       " 0.172573  0.744032  0.0101152  0.748341      0.306672  0.916339  0.0641349\n",
       " 0.415749  0.529367  0.440279   0.844161      0.732491  0.605797  0.224515\n",
       " 0.83479   0.864669  0.819909   0.652074      0.220749  0.423336  0.582538\n",
       " 0.715079  0.418045  0.868479   0.0828322  …  0.694296  0.479     0.312787\n",
       " 0.266175  0.995318  0.120459   0.786238      0.985127  0.486742  0.455026\n",
       " 0.303733  0.730107  0.401753   0.495187      0.717065  0.11296   0.471292\n",
       " 0.324578  0.600891  0.251885   0.364631      0.246696  0.523715  0.436039\n",
       " 0.300414  0.704984  0.543711   0.940237      0.256778  0.648744  0.491361"
      ]
     },
     "execution_count": 6,
     "metadata": {},
     "output_type": "execute_result"
    }
   ],
   "source": [
    "X = rand(10,15) # 請在此撰寫程式"
   ]
  },
  {
   "cell_type": "code",
   "execution_count": 7,
   "metadata": {},
   "outputs": [
    {
     "data": {
      "text/plain": [
       "5×15 Array{Float64,2}:\n",
       " 2.56516  3.44051  2.88282  3.45271  …  2.49028  2.84139  3.35748  2.62653\n",
       " 2.79549  3.77423  3.04202  3.53885     2.60782  3.02453  3.40632  2.816\n",
       " 2.54845  4.12469  3.02762  4.14078     2.84011  3.46938  3.64943  3.04882\n",
       " 2.87356  3.99557  3.24731  3.90997     2.81195  3.35807  3.43274  2.87295\n",
       " 3.09772  4.72827  3.23645  4.29636     3.29763  4.01577  4.16799  3.18498"
      ]
     },
     "execution_count": 7,
     "metadata": {},
     "output_type": "execute_result"
    }
   ],
   "source": [
    "# 請在此撰寫計算線性方程式\n",
    "using LinearAlgebra\n",
    "w*X .+ b"
   ]
  }
 ],
 "metadata": {
  "kernelspec": {
   "display_name": "Julia 1.4.0",
   "language": "julia",
   "name": "julia-1.4"
  },
  "language_info": {
   "file_extension": ".jl",
   "mimetype": "application/julia",
   "name": "julia",
   "version": "1.4.0"
  }
 },
 "nbformat": 4,
 "nbformat_minor": 4
}
