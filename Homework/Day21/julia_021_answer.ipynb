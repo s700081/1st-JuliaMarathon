{
 "cells": [
  {
   "cell_type": "markdown",
   "metadata": {},
   "source": [
    "# Julia 基礎圖表繪製：Gadfly 一維資料圖表\n",
    "\n",
    "## 作業 021"
   ]
  },
  {
   "cell_type": "markdown",
   "metadata": {},
   "source": [
    "1. 比較看看盒狀圖與 violin plot 在同樣的資料上分別展現資料的什麼特性。"
   ]
  },
  {
   "cell_type": "markdown",
   "metadata": {},
   "source": [
    "參考解答：盒狀圖可以呈現出資料的一些統計數值，用以比較其他類別之間統計數值的差異。Violin plot 可以比較細緻地呈現資料的分佈狀態，用以觀察資料分佈的情形。"
   ]
  },
  {
   "cell_type": "markdown",
   "metadata": {},
   "source": [
    "2. 同樣的資料可以以條狀圖或是線圖繪製，思考兩者在表現資料上的特點。"
   ]
  },
  {
   "cell_type": "markdown",
   "metadata": {},
   "source": [
    "參考解答：條狀圖可以用來呈現資料之間的差異，常常用來比較不同類別的資料。線圖則可以呈現資料的走勢或趨勢，常常用來觀察資料的走勢及起伏。"
   ]
  },
  {
   "cell_type": "code",
   "execution_count": null,
   "metadata": {},
   "outputs": [],
   "source": []
  }
 ],
 "metadata": {
  "kernelspec": {
   "display_name": "Julia 1.3.1",
   "language": "julia",
   "name": "julia-1.3"
  },
  "language_info": {
   "file_extension": ".jl",
   "mimetype": "application/julia",
   "name": "julia",
   "version": "1.4.0"
  }
 },
 "nbformat": 4,
 "nbformat_minor": 4
}
