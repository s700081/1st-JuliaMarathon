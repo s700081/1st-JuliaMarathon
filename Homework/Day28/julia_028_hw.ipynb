{
 "cells": [
  {
   "cell_type": "markdown",
   "metadata": {},
   "source": [
    "# Julia 機器學習：Clustering 分群模型\n",
    "\n",
    "## 作業 028：資料分群\n",
    "\n",
    "從提供的檔案中讀取資料，利用分群模型將資料分群後並將資料視覺化。資料中有 15 群，並利用 k-means 去對資料做分群。資料取自 http://cs.uef.fi/sipu/datasets/"
   ]
  },
  {
   "cell_type": "code",
   "execution_count": 1,
   "metadata": {},
   "outputs": [],
   "source": [
    "using Clustering, CSV, DataFrames"
   ]
  },
  {
   "cell_type": "markdown",
   "metadata": {},
   "source": [
    "## 讀取資料"
   ]
  },
  {
   "cell_type": "code",
   "execution_count": 2,
   "metadata": {},
   "outputs": [
    {
     "data": {
      "text/html": [
       "<table class=\"data-frame\"><thead><tr><th></th><th>x</th><th>y</th></tr><tr><th></th><th>Int64</th><th>Int64</th></tr></thead><tbody><p>5,000 rows × 2 columns</p><tr><th>1</th><td>664159</td><td>550946</td></tr><tr><th>2</th><td>665845</td><td>557965</td></tr><tr><th>3</th><td>597173</td><td>575538</td></tr><tr><th>4</th><td>618600</td><td>551446</td></tr><tr><th>5</th><td>635690</td><td>608046</td></tr><tr><th>6</th><td>588100</td><td>557588</td></tr><tr><th>7</th><td>582015</td><td>546191</td></tr><tr><th>8</th><td>604678</td><td>574577</td></tr><tr><th>9</th><td>572029</td><td>518313</td></tr><tr><th>10</th><td>604737</td><td>574591</td></tr><tr><th>11</th><td>577728</td><td>587566</td></tr><tr><th>12</th><td>602013</td><td>574722</td></tr><tr><th>13</th><td>627968</td><td>574625</td></tr><tr><th>14</th><td>607269</td><td>536961</td></tr><tr><th>15</th><td>603145</td><td>574795</td></tr><tr><th>16</th><td>671919</td><td>571761</td></tr><tr><th>17</th><td>612184</td><td>570393</td></tr><tr><th>18</th><td>600032</td><td>575310</td></tr><tr><th>19</th><td>627912</td><td>593892</td></tr><tr><th>20</th><td>601967</td><td>604428</td></tr><tr><th>21</th><td>591851</td><td>569051</td></tr><tr><th>22</th><td>601444</td><td>572693</td></tr><tr><th>23</th><td>629718</td><td>558104</td></tr><tr><th>24</th><td>661430</td><td>603567</td></tr><tr><th>25</th><td>597551</td><td>556737</td></tr><tr><th>26</th><td>601182</td><td>582584</td></tr><tr><th>27</th><td>562704</td><td>570596</td></tr><tr><th>28</th><td>605107</td><td>563429</td></tr><tr><th>29</th><td>607214</td><td>575069</td></tr><tr><th>30</th><td>568824</td><td>570203</td></tr><tr><th>&vellip;</th><td>&vellip;</td><td>&vellip;</td></tr></tbody></table>"
      ],
      "text/latex": [
       "\\begin{tabular}{r|cc}\n",
       "\t& x & y\\\\\n",
       "\t\\hline\n",
       "\t& Int64 & Int64\\\\\n",
       "\t\\hline\n",
       "\t1 & 664159 & 550946 \\\\\n",
       "\t2 & 665845 & 557965 \\\\\n",
       "\t3 & 597173 & 575538 \\\\\n",
       "\t4 & 618600 & 551446 \\\\\n",
       "\t5 & 635690 & 608046 \\\\\n",
       "\t6 & 588100 & 557588 \\\\\n",
       "\t7 & 582015 & 546191 \\\\\n",
       "\t8 & 604678 & 574577 \\\\\n",
       "\t9 & 572029 & 518313 \\\\\n",
       "\t10 & 604737 & 574591 \\\\\n",
       "\t11 & 577728 & 587566 \\\\\n",
       "\t12 & 602013 & 574722 \\\\\n",
       "\t13 & 627968 & 574625 \\\\\n",
       "\t14 & 607269 & 536961 \\\\\n",
       "\t15 & 603145 & 574795 \\\\\n",
       "\t16 & 671919 & 571761 \\\\\n",
       "\t17 & 612184 & 570393 \\\\\n",
       "\t18 & 600032 & 575310 \\\\\n",
       "\t19 & 627912 & 593892 \\\\\n",
       "\t20 & 601967 & 604428 \\\\\n",
       "\t21 & 591851 & 569051 \\\\\n",
       "\t22 & 601444 & 572693 \\\\\n",
       "\t23 & 629718 & 558104 \\\\\n",
       "\t24 & 661430 & 603567 \\\\\n",
       "\t25 & 597551 & 556737 \\\\\n",
       "\t26 & 601182 & 582584 \\\\\n",
       "\t27 & 562704 & 570596 \\\\\n",
       "\t28 & 605107 & 563429 \\\\\n",
       "\t29 & 607214 & 575069 \\\\\n",
       "\t30 & 568824 & 570203 \\\\\n",
       "\t$\\dots$ & $\\dots$ & $\\dots$ \\\\\n",
       "\\end{tabular}\n"
      ],
      "text/plain": [
       "5000×2 DataFrame\n",
       "│ Row  │ x      │ y      │\n",
       "│      │ \u001b[90mInt64\u001b[39m  │ \u001b[90mInt64\u001b[39m  │\n",
       "├──────┼────────┼────────┤\n",
       "│ 1    │ 664159 │ 550946 │\n",
       "│ 2    │ 665845 │ 557965 │\n",
       "│ 3    │ 597173 │ 575538 │\n",
       "│ 4    │ 618600 │ 551446 │\n",
       "│ 5    │ 635690 │ 608046 │\n",
       "│ 6    │ 588100 │ 557588 │\n",
       "│ 7    │ 582015 │ 546191 │\n",
       "│ 8    │ 604678 │ 574577 │\n",
       "│ 9    │ 572029 │ 518313 │\n",
       "│ 10   │ 604737 │ 574591 │\n",
       "⋮\n",
       "│ 4990 │ 681053 │ 892766 │\n",
       "│ 4991 │ 683321 │ 873932 │\n",
       "│ 4992 │ 701017 │ 931252 │\n",
       "│ 4993 │ 645677 │ 814395 │\n",
       "│ 4994 │ 677362 │ 853471 │\n",
       "│ 4995 │ 659046 │ 930099 │\n",
       "│ 4996 │ 665426 │ 853940 │\n",
       "│ 4997 │ 691827 │ 863963 │\n",
       "│ 4998 │ 650661 │ 861267 │\n",
       "│ 4999 │ 599647 │ 858702 │\n",
       "│ 5000 │ 684091 │ 842566 │"
      ]
     },
     "execution_count": 2,
     "metadata": {},
     "output_type": "execute_result"
    }
   ],
   "source": [
    "data = CSV.read(\"s1-set.csv\")"
   ]
  },
  {
   "cell_type": "code",
   "execution_count": null,
   "metadata": {},
   "outputs": [],
   "source": []
  }
 ],
 "metadata": {
  "kernelspec": {
   "display_name": "Julia v1.4 [compiled] 1.4.1",
   "language": "julia",
   "name": "julia-v1.4-[compiled]-1.4"
  },
  "language_info": {
   "file_extension": ".jl",
   "mimetype": "application/julia",
   "name": "julia",
   "version": "1.4.1"
  }
 },
 "nbformat": 4,
 "nbformat_minor": 4
}
