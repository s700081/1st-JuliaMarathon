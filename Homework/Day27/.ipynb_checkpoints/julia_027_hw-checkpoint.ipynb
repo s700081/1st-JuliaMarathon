{
 "cells": [
  {
   "cell_type": "markdown",
   "metadata": {},
   "source": [
    "# Julia 機器學習：GLM 線性迴歸\n",
    "\n",
    "## 作業 027：波士頓房價預測資料集\n",
    "\n",
    "請使用 GLM 中的模型，建立一個預測模型來預測波士頓的房價。"
   ]
  },
  {
   "cell_type": "code",
   "execution_count": 1,
   "metadata": {},
   "outputs": [],
   "source": [
    "using GLM, RDatasets, MLDataUtils"
   ]
  },
  {
   "cell_type": "markdown",
   "metadata": {},
   "source": [
    "## 讀取資料"
   ]
  },
  {
   "cell_type": "markdown",
   "metadata": {},
   "source": [
    "#### Boston dataset共14欄\n",
    "* Crim - per capita crime rate by town\n",
    "* Zn - proportion of residential land zoned for lots over 25,000 sq.ft.\n",
    "* Indus - proportion of non-retail business acres per town.\n",
    "* Chas - Charles River dummy variable (1 if tract bounds river; 0 otherwise)\n",
    "* NOx - nitric oxides concentration (parts per 10 million)\n",
    "* Rm - average number of rooms per dwelling\n",
    "* Age - proportion of owner-occupied units built prior to 1940\n",
    "* Dis - weighted distances to five Boston employment centres\n",
    "* Rad - index of accessibility to radial highways\n",
    "* Tax - full-value property-tax rate per USD 10,000\n",
    "* PTRatio - pupil-teacher ratio by town\n",
    "* Black - 1000(Bk - 0.63)^2 where Bk is the proportion of blacks by town\n",
    "* LStat - % lower status of the population\n",
    "* MedV - Median value of owner-occupied homes in USD 1000's"
   ]
  },
  {
   "cell_type": "code",
   "execution_count": 2,
   "metadata": {},
   "outputs": [
    {
     "name": "stderr",
     "output_type": "stream",
     "text": [
      "┌ Warning: `showall(df::AbstractDataFrame, allcols::Bool = true)` is deprecated, use `show(df, allrows = true, allcols = allcols)` instead.\n",
      "│   caller = showall(::DataFrame) at deprecated.jl:66\n",
      "└ @ DataFrames .\\deprecated.jl:66\n"
     ]
    },
    {
     "name": "stdout",
     "output_type": "stream",
     "text": [
      "10×14 DataFrame\n",
      "│ Row │ Crim    │ Zn      │ Indus   │ Chas  │ NOx     │ Rm      │ Age     │\n",
      "│     │ \u001b[90mFloat64\u001b[39m │ \u001b[90mFloat64\u001b[39m │ \u001b[90mFloat64\u001b[39m │ \u001b[90mInt64\u001b[39m │ \u001b[90mFloat64\u001b[39m │ \u001b[90mFloat64\u001b[39m │ \u001b[90mFloat64\u001b[39m │\n",
      "├─────┼─────────┼─────────┼─────────┼───────┼─────────┼─────────┼─────────┤\n",
      "│ 1   │ 0.00632 │ 18.0    │ 2.31    │ 0     │ 0.538   │ 6.575   │ 65.2    │\n",
      "│ 2   │ 0.02731 │ 0.0     │ 7.07    │ 0     │ 0.469   │ 6.421   │ 78.9    │\n",
      "│ 3   │ 0.02729 │ 0.0     │ 7.07    │ 0     │ 0.469   │ 7.185   │ 61.1    │\n",
      "│ 4   │ 0.03237 │ 0.0     │ 2.18    │ 0     │ 0.458   │ 6.998   │ 45.8    │\n",
      "│ 5   │ 0.06905 │ 0.0     │ 2.18    │ 0     │ 0.458   │ 7.147   │ 54.2    │\n",
      "│ 6   │ 0.02985 │ 0.0     │ 2.18    │ 0     │ 0.458   │ 6.43    │ 58.7    │\n",
      "│ 7   │ 0.08829 │ 12.5    │ 7.87    │ 0     │ 0.524   │ 6.012   │ 66.6    │\n",
      "│ 8   │ 0.14455 │ 12.5    │ 7.87    │ 0     │ 0.524   │ 6.172   │ 96.1    │\n",
      "│ 9   │ 0.21124 │ 12.5    │ 7.87    │ 0     │ 0.524   │ 5.631   │ 100.0   │\n",
      "│ 10  │ 0.17004 │ 12.5    │ 7.87    │ 0     │ 0.524   │ 6.004   │ 85.9    │\n",
      "\n",
      "│ Row │ Dis     │ Rad   │ Tax   │ PTRatio │ Black   │ LStat   │ MedV    │\n",
      "│     │ \u001b[90mFloat64\u001b[39m │ \u001b[90mInt64\u001b[39m │ \u001b[90mInt64\u001b[39m │ \u001b[90mFloat64\u001b[39m │ \u001b[90mFloat64\u001b[39m │ \u001b[90mFloat64\u001b[39m │ \u001b[90mFloat64\u001b[39m │\n",
      "├─────┼─────────┼───────┼───────┼─────────┼─────────┼─────────┼─────────┤\n",
      "│ 1   │ 4.09    │ 1     │ 296   │ 15.3    │ 396.9   │ 4.98    │ 24.0    │\n",
      "│ 2   │ 4.9671  │ 2     │ 242   │ 17.8    │ 396.9   │ 9.14    │ 21.6    │\n",
      "│ 3   │ 4.9671  │ 2     │ 242   │ 17.8    │ 392.83  │ 4.03    │ 34.7    │\n",
      "│ 4   │ 6.0622  │ 3     │ 222   │ 18.7    │ 394.63  │ 2.94    │ 33.4    │\n",
      "│ 5   │ 6.0622  │ 3     │ 222   │ 18.7    │ 396.9   │ 5.33    │ 36.2    │\n",
      "│ 6   │ 6.0622  │ 3     │ 222   │ 18.7    │ 394.12  │ 5.21    │ 28.7    │\n",
      "│ 7   │ 5.5605  │ 5     │ 311   │ 15.2    │ 395.6   │ 12.43   │ 22.9    │\n",
      "│ 8   │ 5.9505  │ 5     │ 311   │ 15.2    │ 396.9   │ 19.15   │ 27.1    │\n",
      "│ 9   │ 6.0821  │ 5     │ 311   │ 15.2    │ 386.63  │ 29.93   │ 16.5    │\n",
      "│ 10  │ 6.5921  │ 5     │ 311   │ 15.2    │ 386.71  │ 17.1    │ 18.9    │"
     ]
    }
   ],
   "source": [
    "boston = dataset(\"MASS\", \"Boston\")\n",
    "showall(first(boston, 10))"
   ]
  },
  {
   "cell_type": "markdown",
   "metadata": {},
   "source": [
    "## 切分訓練資料及測試資料"
   ]
  },
  {
   "cell_type": "code",
   "execution_count": 3,
   "metadata": {},
   "outputs": [],
   "source": [
    "indecies = MLDataUtils.shuffleobs(collect(1:nrow(boston)))\n",
    "train_ind, test_ind = MLDataUtils.splitobs(indecies, at = 0.8);"
   ]
  },
  {
   "cell_type": "code",
   "execution_count": 4,
   "metadata": {},
   "outputs": [
    {
     "data": {
      "text/html": [
       "<table class=\"data-frame\"><thead><tr><th></th><th>Crim</th><th>Zn</th><th>Indus</th><th>Chas</th><th>NOx</th><th>Rm</th><th>Age</th><th>Dis</th><th>Rad</th><th>Tax</th></tr><tr><th></th><th>Float64</th><th>Float64</th><th>Float64</th><th>Int64</th><th>Float64</th><th>Float64</th><th>Float64</th><th>Float64</th><th>Int64</th><th>Int64</th></tr></thead><tbody><p>101 rows × 14 columns (omitted printing of 4 columns)</p><tr><th>1</th><td>0.08221</td><td>22.0</td><td>5.86</td><td>0</td><td>0.431</td><td>6.957</td><td>6.8</td><td>8.9067</td><td>7</td><td>330</td></tr><tr><th>2</th><td>0.06664</td><td>0.0</td><td>4.05</td><td>0</td><td>0.51</td><td>6.546</td><td>33.1</td><td>3.1323</td><td>5</td><td>296</td></tr><tr><th>3</th><td>0.0686</td><td>0.0</td><td>2.89</td><td>0</td><td>0.445</td><td>7.416</td><td>62.5</td><td>3.4952</td><td>2</td><td>276</td></tr><tr><th>4</th><td>3.77498</td><td>0.0</td><td>18.1</td><td>0</td><td>0.655</td><td>5.952</td><td>84.7</td><td>2.8715</td><td>24</td><td>666</td></tr><tr><th>5</th><td>1.27346</td><td>0.0</td><td>19.58</td><td>1</td><td>0.605</td><td>6.25</td><td>92.6</td><td>1.7984</td><td>5</td><td>403</td></tr><tr><th>6</th><td>0.05188</td><td>0.0</td><td>4.49</td><td>0</td><td>0.449</td><td>6.015</td><td>45.1</td><td>4.4272</td><td>3</td><td>247</td></tr><tr><th>7</th><td>0.03359</td><td>75.0</td><td>2.95</td><td>0</td><td>0.428</td><td>7.024</td><td>15.8</td><td>5.4011</td><td>3</td><td>252</td></tr><tr><th>8</th><td>0.01432</td><td>100.0</td><td>1.32</td><td>0</td><td>0.411</td><td>6.816</td><td>40.5</td><td>8.3248</td><td>5</td><td>256</td></tr><tr><th>9</th><td>7.75223</td><td>0.0</td><td>18.1</td><td>0</td><td>0.713</td><td>6.301</td><td>83.7</td><td>2.7831</td><td>24</td><td>666</td></tr><tr><th>10</th><td>0.09065</td><td>20.0</td><td>6.96</td><td>1</td><td>0.464</td><td>5.92</td><td>61.5</td><td>3.9175</td><td>3</td><td>223</td></tr><tr><th>11</th><td>0.03871</td><td>52.5</td><td>5.32</td><td>0</td><td>0.405</td><td>6.209</td><td>31.3</td><td>7.3172</td><td>6</td><td>293</td></tr><tr><th>12</th><td>0.09299</td><td>0.0</td><td>25.65</td><td>0</td><td>0.581</td><td>5.961</td><td>92.9</td><td>2.0869</td><td>2</td><td>188</td></tr><tr><th>13</th><td>0.06263</td><td>0.0</td><td>11.93</td><td>0</td><td>0.573</td><td>6.593</td><td>69.1</td><td>2.4786</td><td>1</td><td>273</td></tr><tr><th>14</th><td>0.01311</td><td>90.0</td><td>1.22</td><td>0</td><td>0.403</td><td>7.249</td><td>21.9</td><td>8.6966</td><td>5</td><td>226</td></tr><tr><th>15</th><td>2.77974</td><td>0.0</td><td>19.58</td><td>0</td><td>0.871</td><td>4.903</td><td>97.8</td><td>1.3459</td><td>5</td><td>403</td></tr><tr><th>16</th><td>0.35233</td><td>0.0</td><td>21.89</td><td>0</td><td>0.624</td><td>6.454</td><td>98.4</td><td>1.8498</td><td>4</td><td>437</td></tr><tr><th>17</th><td>0.01439</td><td>60.0</td><td>2.93</td><td>0</td><td>0.401</td><td>6.604</td><td>18.8</td><td>6.2196</td><td>1</td><td>265</td></tr><tr><th>18</th><td>0.95577</td><td>0.0</td><td>8.14</td><td>0</td><td>0.538</td><td>6.047</td><td>88.8</td><td>4.4534</td><td>4</td><td>307</td></tr><tr><th>19</th><td>9.32909</td><td>0.0</td><td>18.1</td><td>0</td><td>0.713</td><td>6.185</td><td>98.7</td><td>2.2616</td><td>24</td><td>666</td></tr><tr><th>20</th><td>0.05479</td><td>33.0</td><td>2.18</td><td>0</td><td>0.472</td><td>6.616</td><td>58.1</td><td>3.37</td><td>7</td><td>222</td></tr><tr><th>21</th><td>0.1403</td><td>22.0</td><td>5.86</td><td>0</td><td>0.431</td><td>6.487</td><td>13.0</td><td>7.3967</td><td>7</td><td>330</td></tr><tr><th>22</th><td>2.44953</td><td>0.0</td><td>19.58</td><td>0</td><td>0.605</td><td>6.402</td><td>95.2</td><td>2.2625</td><td>5</td><td>403</td></tr><tr><th>23</th><td>0.0795</td><td>60.0</td><td>1.69</td><td>0</td><td>0.411</td><td>6.579</td><td>35.9</td><td>10.7103</td><td>4</td><td>411</td></tr><tr><th>24</th><td>0.40771</td><td>0.0</td><td>6.2</td><td>1</td><td>0.507</td><td>6.164</td><td>91.3</td><td>3.048</td><td>8</td><td>307</td></tr><tr><th>25</th><td>0.33983</td><td>22.0</td><td>5.86</td><td>0</td><td>0.431</td><td>6.108</td><td>34.9</td><td>8.0555</td><td>7</td><td>330</td></tr><tr><th>26</th><td>8.98296</td><td>0.0</td><td>18.1</td><td>1</td><td>0.77</td><td>6.212</td><td>97.4</td><td>2.1222</td><td>24</td><td>666</td></tr><tr><th>27</th><td>0.07875</td><td>45.0</td><td>3.44</td><td>0</td><td>0.437</td><td>6.782</td><td>41.1</td><td>3.7886</td><td>5</td><td>398</td></tr><tr><th>28</th><td>0.26169</td><td>0.0</td><td>9.9</td><td>0</td><td>0.544</td><td>6.023</td><td>90.4</td><td>2.834</td><td>4</td><td>304</td></tr><tr><th>29</th><td>5.82115</td><td>0.0</td><td>18.1</td><td>0</td><td>0.713</td><td>6.513</td><td>89.9</td><td>2.8016</td><td>24</td><td>666</td></tr><tr><th>30</th><td>0.18836</td><td>0.0</td><td>6.91</td><td>0</td><td>0.448</td><td>5.786</td><td>33.3</td><td>5.1004</td><td>3</td><td>233</td></tr><tr><th>&vellip;</th><td>&vellip;</td><td>&vellip;</td><td>&vellip;</td><td>&vellip;</td><td>&vellip;</td><td>&vellip;</td><td>&vellip;</td><td>&vellip;</td><td>&vellip;</td><td>&vellip;</td></tr></tbody></table>"
      ],
      "text/latex": [
       "\\begin{tabular}{r|ccccccccccc}\n",
       "\t& Crim & Zn & Indus & Chas & NOx & Rm & Age & Dis & Rad & Tax & \\\\\n",
       "\t\\hline\n",
       "\t& Float64 & Float64 & Float64 & Int64 & Float64 & Float64 & Float64 & Float64 & Int64 & Int64 & \\\\\n",
       "\t\\hline\n",
       "\t1 & 0.08221 & 22.0 & 5.86 & 0 & 0.431 & 6.957 & 6.8 & 8.9067 & 7 & 330 & $\\dots$ \\\\\n",
       "\t2 & 0.06664 & 0.0 & 4.05 & 0 & 0.51 & 6.546 & 33.1 & 3.1323 & 5 & 296 & $\\dots$ \\\\\n",
       "\t3 & 0.0686 & 0.0 & 2.89 & 0 & 0.445 & 7.416 & 62.5 & 3.4952 & 2 & 276 & $\\dots$ \\\\\n",
       "\t4 & 3.77498 & 0.0 & 18.1 & 0 & 0.655 & 5.952 & 84.7 & 2.8715 & 24 & 666 & $\\dots$ \\\\\n",
       "\t5 & 1.27346 & 0.0 & 19.58 & 1 & 0.605 & 6.25 & 92.6 & 1.7984 & 5 & 403 & $\\dots$ \\\\\n",
       "\t6 & 0.05188 & 0.0 & 4.49 & 0 & 0.449 & 6.015 & 45.1 & 4.4272 & 3 & 247 & $\\dots$ \\\\\n",
       "\t7 & 0.03359 & 75.0 & 2.95 & 0 & 0.428 & 7.024 & 15.8 & 5.4011 & 3 & 252 & $\\dots$ \\\\\n",
       "\t8 & 0.01432 & 100.0 & 1.32 & 0 & 0.411 & 6.816 & 40.5 & 8.3248 & 5 & 256 & $\\dots$ \\\\\n",
       "\t9 & 7.75223 & 0.0 & 18.1 & 0 & 0.713 & 6.301 & 83.7 & 2.7831 & 24 & 666 & $\\dots$ \\\\\n",
       "\t10 & 0.09065 & 20.0 & 6.96 & 1 & 0.464 & 5.92 & 61.5 & 3.9175 & 3 & 223 & $\\dots$ \\\\\n",
       "\t11 & 0.03871 & 52.5 & 5.32 & 0 & 0.405 & 6.209 & 31.3 & 7.3172 & 6 & 293 & $\\dots$ \\\\\n",
       "\t12 & 0.09299 & 0.0 & 25.65 & 0 & 0.581 & 5.961 & 92.9 & 2.0869 & 2 & 188 & $\\dots$ \\\\\n",
       "\t13 & 0.06263 & 0.0 & 11.93 & 0 & 0.573 & 6.593 & 69.1 & 2.4786 & 1 & 273 & $\\dots$ \\\\\n",
       "\t14 & 0.01311 & 90.0 & 1.22 & 0 & 0.403 & 7.249 & 21.9 & 8.6966 & 5 & 226 & $\\dots$ \\\\\n",
       "\t15 & 2.77974 & 0.0 & 19.58 & 0 & 0.871 & 4.903 & 97.8 & 1.3459 & 5 & 403 & $\\dots$ \\\\\n",
       "\t16 & 0.35233 & 0.0 & 21.89 & 0 & 0.624 & 6.454 & 98.4 & 1.8498 & 4 & 437 & $\\dots$ \\\\\n",
       "\t17 & 0.01439 & 60.0 & 2.93 & 0 & 0.401 & 6.604 & 18.8 & 6.2196 & 1 & 265 & $\\dots$ \\\\\n",
       "\t18 & 0.95577 & 0.0 & 8.14 & 0 & 0.538 & 6.047 & 88.8 & 4.4534 & 4 & 307 & $\\dots$ \\\\\n",
       "\t19 & 9.32909 & 0.0 & 18.1 & 0 & 0.713 & 6.185 & 98.7 & 2.2616 & 24 & 666 & $\\dots$ \\\\\n",
       "\t20 & 0.05479 & 33.0 & 2.18 & 0 & 0.472 & 6.616 & 58.1 & 3.37 & 7 & 222 & $\\dots$ \\\\\n",
       "\t21 & 0.1403 & 22.0 & 5.86 & 0 & 0.431 & 6.487 & 13.0 & 7.3967 & 7 & 330 & $\\dots$ \\\\\n",
       "\t22 & 2.44953 & 0.0 & 19.58 & 0 & 0.605 & 6.402 & 95.2 & 2.2625 & 5 & 403 & $\\dots$ \\\\\n",
       "\t23 & 0.0795 & 60.0 & 1.69 & 0 & 0.411 & 6.579 & 35.9 & 10.7103 & 4 & 411 & $\\dots$ \\\\\n",
       "\t24 & 0.40771 & 0.0 & 6.2 & 1 & 0.507 & 6.164 & 91.3 & 3.048 & 8 & 307 & $\\dots$ \\\\\n",
       "\t25 & 0.33983 & 22.0 & 5.86 & 0 & 0.431 & 6.108 & 34.9 & 8.0555 & 7 & 330 & $\\dots$ \\\\\n",
       "\t26 & 8.98296 & 0.0 & 18.1 & 1 & 0.77 & 6.212 & 97.4 & 2.1222 & 24 & 666 & $\\dots$ \\\\\n",
       "\t27 & 0.07875 & 45.0 & 3.44 & 0 & 0.437 & 6.782 & 41.1 & 3.7886 & 5 & 398 & $\\dots$ \\\\\n",
       "\t28 & 0.26169 & 0.0 & 9.9 & 0 & 0.544 & 6.023 & 90.4 & 2.834 & 4 & 304 & $\\dots$ \\\\\n",
       "\t29 & 5.82115 & 0.0 & 18.1 & 0 & 0.713 & 6.513 & 89.9 & 2.8016 & 24 & 666 & $\\dots$ \\\\\n",
       "\t30 & 0.18836 & 0.0 & 6.91 & 0 & 0.448 & 5.786 & 33.3 & 5.1004 & 3 & 233 & $\\dots$ \\\\\n",
       "\t$\\dots$ & $\\dots$ & $\\dots$ & $\\dots$ & $\\dots$ & $\\dots$ & $\\dots$ & $\\dots$ & $\\dots$ & $\\dots$ & $\\dots$ &  \\\\\n",
       "\\end{tabular}\n"
      ],
      "text/plain": [
       "101×14 DataFrame. Omitted printing of 7 columns\n",
       "│ Row │ Crim    │ Zn      │ Indus   │ Chas  │ NOx     │ Rm      │ Age     │\n",
       "│     │ \u001b[90mFloat64\u001b[39m │ \u001b[90mFloat64\u001b[39m │ \u001b[90mFloat64\u001b[39m │ \u001b[90mInt64\u001b[39m │ \u001b[90mFloat64\u001b[39m │ \u001b[90mFloat64\u001b[39m │ \u001b[90mFloat64\u001b[39m │\n",
       "├─────┼─────────┼─────────┼─────────┼───────┼─────────┼─────────┼─────────┤\n",
       "│ 1   │ 0.08221 │ 22.0    │ 5.86    │ 0     │ 0.431   │ 6.957   │ 6.8     │\n",
       "│ 2   │ 0.06664 │ 0.0     │ 4.05    │ 0     │ 0.51    │ 6.546   │ 33.1    │\n",
       "│ 3   │ 0.0686  │ 0.0     │ 2.89    │ 0     │ 0.445   │ 7.416   │ 62.5    │\n",
       "│ 4   │ 3.77498 │ 0.0     │ 18.1    │ 0     │ 0.655   │ 5.952   │ 84.7    │\n",
       "│ 5   │ 1.27346 │ 0.0     │ 19.58   │ 1     │ 0.605   │ 6.25    │ 92.6    │\n",
       "│ 6   │ 0.05188 │ 0.0     │ 4.49    │ 0     │ 0.449   │ 6.015   │ 45.1    │\n",
       "│ 7   │ 0.03359 │ 75.0    │ 2.95    │ 0     │ 0.428   │ 7.024   │ 15.8    │\n",
       "│ 8   │ 0.01432 │ 100.0   │ 1.32    │ 0     │ 0.411   │ 6.816   │ 40.5    │\n",
       "│ 9   │ 7.75223 │ 0.0     │ 18.1    │ 0     │ 0.713   │ 6.301   │ 83.7    │\n",
       "│ 10  │ 0.09065 │ 20.0    │ 6.96    │ 1     │ 0.464   │ 5.92    │ 61.5    │\n",
       "⋮\n",
       "│ 91  │ 0.01778 │ 95.0    │ 1.47    │ 0     │ 0.403   │ 7.135   │ 13.9    │\n",
       "│ 92  │ 2.37934 │ 0.0     │ 19.58   │ 0     │ 0.871   │ 6.13    │ 100.0   │\n",
       "│ 93  │ 11.5779 │ 0.0     │ 18.1    │ 0     │ 0.7     │ 5.036   │ 97.0    │\n",
       "│ 94  │ 8.26725 │ 0.0     │ 18.1    │ 1     │ 0.668   │ 5.875   │ 89.6    │\n",
       "│ 95  │ 0.3494  │ 0.0     │ 9.9     │ 0     │ 0.544   │ 5.972   │ 76.7    │\n",
       "│ 96  │ 0.14455 │ 12.5    │ 7.87    │ 0     │ 0.524   │ 6.172   │ 96.1    │\n",
       "│ 97  │ 0.2909  │ 0.0     │ 21.89   │ 0     │ 0.624   │ 6.174   │ 93.6    │\n",
       "│ 98  │ 0.04297 │ 52.5    │ 5.32    │ 0     │ 0.405   │ 6.565   │ 22.9    │\n",
       "│ 99  │ 0.44178 │ 0.0     │ 6.2     │ 0     │ 0.504   │ 6.552   │ 21.4    │\n",
       "│ 100 │ 0.22927 │ 0.0     │ 6.91    │ 0     │ 0.448   │ 6.03    │ 85.5    │\n",
       "│ 101 │ 0.05059 │ 0.0     │ 4.49    │ 0     │ 0.449   │ 6.389   │ 48.0    │"
      ]
     },
     "execution_count": 4,
     "metadata": {},
     "output_type": "execute_result"
    }
   ],
   "source": [
    "train = boston[train_ind, :]\n",
    "test = boston[test_ind, :]"
   ]
  },
  {
   "cell_type": "markdown",
   "metadata": {},
   "source": [
    "## 線性迴歸模型"
   ]
  },
  {
   "cell_type": "code",
   "execution_count": 5,
   "metadata": {},
   "outputs": [
    {
     "data": {
      "text/plain": [
       "StatsModels.TableRegressionModel{LinearModel{GLM.LmResp{Array{Float64,1}},GLM.DensePredChol{Float64,LinearAlgebra.Cholesky{Float64,Array{Float64,2}}}},Array{Float64,2}}\n",
       "\n",
       "MedV ~ 1 + Crim + Zn + Indus + Chas + NOx + Rm + Age + Dis + Rad + Tax + PTRatio + Black + LStat\n",
       "\n",
       "Coefficients:\n",
       "───────────────────────────────────────────────────────────────────────────────────────\n",
       "                 Estimate  Std. Error     t value  Pr(>|t|)     Lower 95%     Upper 95%\n",
       "───────────────────────────────────────────────────────────────────────────────────────\n",
       "(Intercept)   38.1883      5.65946      6.7477       <1e-10   27.0615       49.3151\n",
       "Crim          -0.124891    0.0350837   -3.5598       0.0004   -0.193867     -0.0559146\n",
       "Zn             0.0510185   0.0157817    3.23277      0.0013    0.019991      0.0820461\n",
       "Indus         -0.0067066   0.0699311   -0.0959029    0.9236   -0.144195      0.130781\n",
       "Chas           2.19799     0.958293     2.29365      0.0223    0.313936      4.08204\n",
       "NOx          -19.1561      4.1659      -4.59832      <1e-5   -27.3465      -10.9658\n",
       "Rm             3.81364     0.465498     8.1926       <1e-14    2.89845       4.72883\n",
       "Age            0.00021222  0.0145078    0.014628     0.9883   -0.0283108     0.0287353\n",
       "Dis           -1.54962     0.226975    -6.82728      <1e-10   -1.99587      -1.10338\n",
       "Rad            0.378958    0.0767702    4.93627      <1e-5     0.228025      0.529892\n",
       "Tax           -0.0159242   0.00435312  -3.65811      0.0003   -0.0244826    -0.00736574\n",
       "PTRatio       -0.967127    0.147387    -6.56182      <1e-9    -1.2569       -0.677357\n",
       "Black          0.00953642  0.00293094   3.25371      0.0012    0.00377405    0.0152988\n",
       "LStat         -0.478212    0.0571386   -8.36934      <1e-14   -0.590549     -0.365875\n",
       "───────────────────────────────────────────────────────────────────────────────────────"
      ]
     },
     "execution_count": 5,
     "metadata": {},
     "output_type": "execute_result"
    }
   ],
   "source": [
    "ols = GLM.lm(@formula(MedV ~ Crim + Zn + Indus + Chas + NOx + Rm + Age + Dis + Rad + Tax + PTRatio + Black + LStat), train)"
   ]
  },
  {
   "cell_type": "markdown",
   "metadata": {},
   "source": [
    "## 預測"
   ]
  },
  {
   "cell_type": "code",
   "execution_count": 7,
   "metadata": {},
   "outputs": [
    {
     "data": {
      "text/plain": [
       "101-element Array{Union{Missing, Float64},1}:\n",
       " 24.655206201831877\n",
       " 30.80684505344785\n",
       " 32.29429212659351\n",
       " 14.277307654914473\n",
       " 31.43703781449451\n",
       " 22.577019531036456\n",
       " 34.46409124760812\n",
       " 33.58093165047392\n",
       " 16.963230119177844\n",
       " 25.780991937476994\n",
       " 27.338905348076267\n",
       " 20.717207153960256\n",
       " 23.276975858485635\n",
       "  ⋮\n",
       " 24.461462020346563\n",
       " 30.487463732167967\n",
       " 11.889839684667177\n",
       " 10.152952651780929\n",
       " 25.134343653143652\n",
       " 23.531658780487334\n",
       " 19.923836531767826\n",
       " 13.320353052166368\n",
       " 27.320757325190755\n",
       " 31.34218554337242\n",
       " 18.599278874515974\n",
       " 25.01640515638521"
      ]
     },
     "execution_count": 7,
     "metadata": {},
     "output_type": "execute_result"
    }
   ],
   "source": [
    "predict(ols, test)"
   ]
  },
  {
   "cell_type": "markdown",
   "metadata": {},
   "source": [
    "## 模型評估"
   ]
  },
  {
   "cell_type": "code",
   "execution_count": 9,
   "metadata": {},
   "outputs": [
    {
     "data": {
      "text/plain": [
       "0.7442087442405037"
      ]
     },
     "execution_count": 9,
     "metadata": {},
     "output_type": "execute_result"
    }
   ],
   "source": [
    "GLM.r²(ols)"
   ]
  },
  {
   "cell_type": "code",
   "execution_count": 10,
   "metadata": {},
   "outputs": [
    {
     "data": {
      "text/plain": [
       "0.7357041756346892"
      ]
     },
     "execution_count": 10,
     "metadata": {},
     "output_type": "execute_result"
    }
   ],
   "source": [
    "GLM.adjr²(ols)"
   ]
  }
 ],
 "metadata": {
  "kernelspec": {
   "display_name": "Julia 1.4.0",
   "language": "julia",
   "name": "julia-1.4"
  },
  "language_info": {
   "file_extension": ".jl",
   "mimetype": "application/julia",
   "name": "julia",
   "version": "1.4.0"
  }
 },
 "nbformat": 4,
 "nbformat_minor": 4
}
