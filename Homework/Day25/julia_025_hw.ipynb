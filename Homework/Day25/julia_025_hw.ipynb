{
 "cells": [
  {
   "cell_type": "markdown",
   "metadata": {},
   "source": [
    "## Using Python in Julia\n",
    "#### 在Julia裡面使用Python需要透過PyCall"
   ]
  },
  {
   "cell_type": "code",
   "execution_count": null,
   "metadata": {},
   "outputs": [],
   "source": [
    "# using Pkg\n",
    "# Pkg.add(\"PyCall\")"
   ]
  },
  {
   "cell_type": "code",
   "execution_count": 1,
   "metadata": {},
   "outputs": [],
   "source": [
    "using PyCall"
   ]
  },
  {
   "cell_type": "markdown",
   "metadata": {},
   "source": [
    "#### 呼叫python需在程式碼加前綴的macro \"py\""
   ]
  },
  {
   "cell_type": "code",
   "execution_count": 2,
   "metadata": {},
   "outputs": [
    {
     "data": {
      "text/plain": [
       "3"
      ]
     },
     "execution_count": 2,
     "metadata": {},
     "output_type": "execute_result"
    }
   ],
   "source": [
    "py\"1+2\""
   ]
  },
  {
   "cell_type": "code",
   "execution_count": 3,
   "metadata": {},
   "outputs": [
    {
     "data": {
      "text/plain": [
       "PyObject <class 'int'>"
      ]
     },
     "execution_count": 3,
     "metadata": {},
     "output_type": "execute_result"
    }
   ],
   "source": [
    "py\"type(1+2)\""
   ]
  },
  {
   "cell_type": "markdown",
   "metadata": {},
   "source": [
    "#### 使用三引號可將整段程式碼包裹在字串中，執行完 不會 回傳執行結果"
   ]
  },
  {
   "cell_type": "code",
   "execution_count": 4,
   "metadata": {},
   "outputs": [],
   "source": [
    "py\"\"\"\n",
    "import numpy as np\n",
    "np.sin(np.pi)\n",
    "\"\"\""
   ]
  },
  {
   "cell_type": "markdown",
   "metadata": {},
   "source": [
    "#### 使用python套件\n",
    "1. 可以將 julia 物件送到 python 計算\n",
    "\n",
    "`py\"np.sin\"` 對應 python 的函式或物件，可以試著將 julia 物件作為參數傳遞給它進行運算。"
   ]
  },
  {
   "cell_type": "code",
   "execution_count": 5,
   "metadata": {},
   "outputs": [
    {
     "data": {
      "text/plain": [
       "0.8414709848078965"
      ]
     },
     "execution_count": 5,
     "metadata": {},
     "output_type": "execute_result"
    }
   ],
   "source": [
    "py\"np.sin\"(1.0)"
   ]
  },
  {
   "cell_type": "code",
   "execution_count": 6,
   "metadata": {},
   "outputs": [
    {
     "data": {
      "text/plain": [
       "0.479425538604203"
      ]
     },
     "execution_count": 6,
     "metadata": {},
     "output_type": "execute_result"
    }
   ],
   "source": [
    "py\"np.sin\"(1//2)"
   ]
  },
  {
   "cell_type": "code",
   "execution_count": 7,
   "metadata": {},
   "outputs": [
    {
     "data": {
      "text/plain": [
       "3-element Array{Float64,1}:\n",
       "  1.0\n",
       "  1.2246467991473532e-16\n",
       " -2.4492935982947064e-16"
      ]
     },
     "execution_count": 7,
     "metadata": {},
     "output_type": "execute_result"
    }
   ],
   "source": [
    "py\"np.sin\"([0.5π, π, 2π])"
   ]
  },
  {
   "cell_type": "markdown",
   "metadata": {},
   "source": [
    "2. `pyimport` 可以將 python 套件載入，並對應到一個 julia 的物件。\n",
    "\n",
    "使用 `pyimport` 可以更方便在 julia 使用 python 的套件。\n",
    "\n",
    "`np` 會直接對應 python 的套件，並直接存取底下的功能。"
   ]
  },
  {
   "cell_type": "code",
   "execution_count": 8,
   "metadata": {},
   "outputs": [
    {
     "data": {
      "text/plain": [
       "0.8414709848078965"
      ]
     },
     "execution_count": 8,
     "metadata": {},
     "output_type": "execute_result"
    }
   ],
   "source": [
    "np = pyimport(\"numpy\")\n",
    "np.sin(1)"
   ]
  },
  {
   "cell_type": "code",
   "execution_count": 9,
   "metadata": {},
   "outputs": [
    {
     "data": {
      "text/plain": [
       "0.7071067811865476"
      ]
     },
     "execution_count": 9,
     "metadata": {},
     "output_type": "execute_result"
    }
   ],
   "source": [
    "math = pyimport(\"math\")\n",
    "math.sin(math.pi / 4)"
   ]
  },
  {
   "cell_type": "markdown",
   "metadata": {},
   "source": [
    "#### 使用 Python 的 `with`\n",
    "資源管理理器 `with` 在 python 中使⽤用非常頻繁，我們一樣可以在 julia 中使⽤用，`@pywith` 是其對應的語法。\n",
    "\n",
    "`pybuiltin` 則是呼叫 python 的內建語法，這邊我們⽤用到 python 的 `open`。\n",
    "\n",
    "資源的管理在程式設計上是一個很常見的問題，例如管理開啟的檔案等。\n",
    "\n",
    "最主要的問題點就在於我們必須確保這些開啟的資源在使用完之後，有確實被關閉（或釋放），如果忘記關閉這些資源，就會造成程式執行上的效能問題，甚至出現錯誤。\n",
    "\n",
    "Python 語言提供了 `with` 這個獨特的語法，可讓程式設計者更容易管理這些開啟的資源，在這樣的語法架構之下，Python 程式會自動進行資源的建立、清理與回收動作，讓程式設計者在使用各種資源時更為方便。\n",
    "\n",
    "```Python\n",
    "    with open(filename) as f:\n",
    "    #...\n",
    "```\n",
    "\n",
    "如上方例子，在python中使用 `with` 開啟檔案時，會將開啟的檔案一樣放在 `f` 變數中，但是這個 `f` 只有在這個 `with` 的範圍內可以使用，而離開這個範圍時 `f` 就會自動被關閉，回收相關的資源。"
   ]
  },
  {
   "cell_type": "code",
   "execution_count": 10,
   "metadata": {},
   "outputs": [],
   "source": [
    "# 開啟一個名為 file.txt的檔案，並寫入 hello\n",
    "@pywith pybuiltin(\"open\")(\"file.txt\",\"w\") as f begin\n",
    "    f.write(\"hello\")\n",
    "end"
   ]
  },
  {
   "cell_type": "markdown",
   "metadata": {},
   "source": [
    "#### 呼叫Python的物件\n",
    "如果計算結果儲存在 python 物件中，我們可以直接呼叫 python 物件來取得其中的值。"
   ]
  },
  {
   "cell_type": "code",
   "execution_count": 11,
   "metadata": {},
   "outputs": [
    {
     "data": {
      "text/plain": [
       "1.2246467991473532e-16"
      ]
     },
     "execution_count": 11,
     "metadata": {},
     "output_type": "execute_result"
    }
   ],
   "source": [
    "py\"\"\"\n",
    "import numpy as np\n",
    "i = np.sin(np.pi)\n",
    "\"\"\"\n",
    "i = py\"i\""
   ]
  },
  {
   "cell_type": "code",
   "execution_count": 12,
   "metadata": {},
   "outputs": [
    {
     "data": {
      "text/plain": [
       "2.4492935982947064e-16"
      ]
     },
     "execution_count": 12,
     "metadata": {},
     "output_type": "execute_result"
    }
   ],
   "source": [
    "i*2"
   ]
  },
  {
   "cell_type": "markdown",
   "metadata": {},
   "source": [
    "## Using R in Julia\n",
    "#### 在Julia裡面使用R需要透過RCall"
   ]
  },
  {
   "cell_type": "code",
   "execution_count": null,
   "metadata": {},
   "outputs": [],
   "source": [
    "# Pkg.add(\"RCall\")"
   ]
  },
  {
   "cell_type": "code",
   "execution_count": 13,
   "metadata": {},
   "outputs": [
    {
     "name": "stdout",
     "output_type": "stream",
     "text": [
      "\n",
      "R version 3.6.2 (2019-12-12) -- \"Dark and Stormy Night\"\n",
      "Copyright (C) 2019 The R Foundation for Statistical Computing\n",
      "Platform: x86_64-w64-mingw32/x64 (64-bit)\n",
      "\n",
      "R is free software and comes with ABSOLUTELY NO WARRANTY.\n",
      "You are welcome to redistribute it under certain conditions.\n",
      "Type 'license()' or 'licence()' for distribution details.\n",
      "\n",
      "R is a collaborative project with many contributors.\n",
      "Type 'contributors()' for more information and\n",
      "'citation()' on how to cite R or R packages in publications.\n",
      "\n",
      "Type 'demo()' for some demos, 'help()' for on-line help, or\n",
      "'help.start()' for an HTML browser interface to help.\n",
      "Type 'q()' to quit R.\n",
      "\n"
     ]
    }
   ],
   "source": [
    "using RCall"
   ]
  },
  {
   "cell_type": "markdown",
   "metadata": {},
   "source": [
    "#### 呼叫R需在程式碼加前綴的macro \"R\""
   ]
  },
  {
   "cell_type": "code",
   "execution_count": 14,
   "metadata": {},
   "outputs": [
    {
     "data": {
      "text/plain": [
       "RObject{RealSxp}\n",
       "[1] 3\n"
      ]
     },
     "execution_count": 14,
     "metadata": {},
     "output_type": "execute_result"
    }
   ],
   "source": [
    "R\"1+2\""
   ]
  },
  {
   "cell_type": "code",
   "execution_count": 15,
   "metadata": {},
   "outputs": [
    {
     "data": {
      "text/plain": [
       "RObject{StrSxp}\n",
       "[1] \"numeric\"\n"
      ]
     },
     "execution_count": 15,
     "metadata": {},
     "output_type": "execute_result"
    }
   ],
   "source": [
    "R\"class(1+2)\""
   ]
  },
  {
   "cell_type": "markdown",
   "metadata": {},
   "source": [
    "#### 使用三引號可將整段程式碼包裹在字串中，執行完 會 回傳執行結果"
   ]
  },
  {
   "cell_type": "code",
   "execution_count": 16,
   "metadata": {},
   "outputs": [
    {
     "data": {
      "text/plain": [
       "RObject{RealSxp}\n",
       "[1] 1.224606e-16\n"
      ]
     },
     "execution_count": 16,
     "metadata": {},
     "output_type": "execute_result"
    }
   ],
   "source": [
    "R\"\"\"\n",
    "sin(pi)\n",
    "\"\"\""
   ]
  },
  {
   "cell_type": "markdown",
   "metadata": {},
   "source": [
    "#### 使用R套件\n",
    "1. 可以將 julia 物件送到 R 計算\n",
    "\n",
    "`R\"sin\"` 對應 R 的函式或物件，可以試著將 julia 物件作為參參數傳遞給它進行運算。"
   ]
  },
  {
   "cell_type": "code",
   "execution_count": 17,
   "metadata": {},
   "outputs": [
    {
     "data": {
      "text/plain": [
       "RObject{RealSxp}\n",
       "[1] 0.841471\n"
      ]
     },
     "execution_count": 17,
     "metadata": {},
     "output_type": "execute_result"
    }
   ],
   "source": [
    "R\"sin\"(1.0)"
   ]
  },
  {
   "cell_type": "code",
   "execution_count": 18,
   "metadata": {},
   "outputs": [
    {
     "data": {
      "text/plain": [
       "RObject{RealSxp}\n",
       "[1] 0.4794255\n"
      ]
     },
     "execution_count": 18,
     "metadata": {},
     "output_type": "execute_result"
    }
   ],
   "source": [
    "R\"sin\"(1/2)"
   ]
  },
  {
   "cell_type": "code",
   "execution_count": 19,
   "metadata": {},
   "outputs": [
    {
     "data": {
      "text/plain": [
       "RObject{RealSxp}\n",
       "[1]  1.000000e+00  1.224606e-16 -2.449213e-16\n"
      ]
     },
     "execution_count": 19,
     "metadata": {},
     "output_type": "execute_result"
    }
   ],
   "source": [
    "R\"sin\"([0.5π, π, 2π])"
   ]
  },
  {
   "cell_type": "markdown",
   "metadata": {},
   "source": [
    "2. `@rimport` 可以將 R 套件載入，並對應到一個 julia 的物件。\n",
    "\n",
    "使用 `@rimport` 可以更方便在 julia 使用 R 的套件。\n",
    "\n",
    "`rbase` 會直接對應 R 的套件，並直接存取底下的功能。"
   ]
  },
  {
   "cell_type": "code",
   "execution_count": 20,
   "metadata": {},
   "outputs": [],
   "source": [
    "@rimport base as rbase"
   ]
  },
  {
   "cell_type": "code",
   "execution_count": 21,
   "metadata": {},
   "outputs": [
    {
     "data": {
      "text/plain": [
       "RObject{IntSxp}\n",
       "     [,1] [,2] [,3]\n",
       "[1,]    1    3    5\n",
       "[2,]    2    4    6\n"
      ]
     },
     "execution_count": 21,
     "metadata": {},
     "output_type": "execute_result"
    }
   ],
   "source": [
    "rbase.matrix(1:6, nrow = 2, ncol = 3)"
   ]
  },
  {
   "cell_type": "markdown",
   "metadata": {},
   "source": [
    "#### 呼叫R的物件\n",
    "在R裡面新增的變數屬於R Object，無法被Julia直接呼叫。\n",
    "\n",
    "和呼叫python object不同，必須使用`@rget`才能把變數拉進Julia環境"
   ]
  },
  {
   "cell_type": "code",
   "execution_count": 22,
   "metadata": {},
   "outputs": [
    {
     "data": {
      "text/plain": [
       "RObject{VecSxp}\n",
       "  A B\n",
       "1 1 4\n",
       "2 2 5\n",
       "3 3 6\n"
      ]
     },
     "execution_count": 22,
     "metadata": {},
     "output_type": "execute_result"
    }
   ],
   "source": [
    "R\"tt03 <- data.frame(A = 1:3, B = 4:6, stringsAsFactors = FLASE)\""
   ]
  },
  {
   "cell_type": "code",
   "execution_count": 23,
   "metadata": {},
   "outputs": [
    {
     "data": {
      "text/plain": [
       "RObject{StrSxp}\n",
       "[1] \"tt03\"\n"
      ]
     },
     "execution_count": 23,
     "metadata": {},
     "output_type": "execute_result"
    }
   ],
   "source": [
    "R\"ls()\""
   ]
  },
  {
   "cell_type": "code",
   "execution_count": 24,
   "metadata": {},
   "outputs": [
    {
     "data": {
      "text/plain": [
       "RObject{VecSxp}\n",
       "  A B\n",
       "1 1 4\n",
       "2 2 5\n",
       "3 3 6\n"
      ]
     },
     "execution_count": 24,
     "metadata": {},
     "output_type": "execute_result"
    }
   ],
   "source": [
    "julia_tt03 = R\"tt03\""
   ]
  },
  {
   "cell_type": "markdown",
   "metadata": {},
   "source": [
    "上面可以看到，即使指定新的變數，他還是R Object，因此直接在julia環境使用會出現錯誤"
   ]
  },
  {
   "cell_type": "code",
   "execution_count": 25,
   "metadata": {},
   "outputs": [
    {
     "ename": "MethodError",
     "evalue": "MethodError: no method matching getindex(::Ptr{VecSxp}, ::Int64, ::Int64)\nClosest candidates are:\n  getindex(::Ptr{S}, ::Integer) where S<:Union{RCall.ExprSxp, VecSxp} at C:\\Users\\ocean_chou\\.julia\\packages\\RCall\\paaBQ\\src\\methods.jl:178\n  getindex(::Ref, !Matched::CartesianIndex{0}) at multidimensional.jl:1804\n  getindex(::Ptr{S}, !Matched::AbstractString) where S<:RCall.VectorSxp at C:\\Users\\ocean_chou\\.julia\\packages\\RCall\\paaBQ\\src\\methods.jl:107\n  ...",
     "output_type": "error",
     "traceback": [
      "MethodError: no method matching getindex(::Ptr{VecSxp}, ::Int64, ::Int64)\nClosest candidates are:\n  getindex(::Ptr{S}, ::Integer) where S<:Union{RCall.ExprSxp, VecSxp} at C:\\Users\\ocean_chou\\.julia\\packages\\RCall\\paaBQ\\src\\methods.jl:178\n  getindex(::Ref, !Matched::CartesianIndex{0}) at multidimensional.jl:1804\n  getindex(::Ptr{S}, !Matched::AbstractString) where S<:RCall.VectorSxp at C:\\Users\\ocean_chou\\.julia\\packages\\RCall\\paaBQ\\src\\methods.jl:107\n  ...",
      "",
      "Stacktrace:",
      " [1] getindex(::RObject{VecSxp}, ::Int64, ::Int64) at C:\\Users\\ocean_chou\\.julia\\packages\\RCall\\paaBQ\\src\\methods.jl:155",
      " [2] top-level scope at In[25]:1"
     ]
    }
   ],
   "source": [
    "julia_tt03[1,2]"
   ]
  },
  {
   "cell_type": "code",
   "execution_count": 26,
   "metadata": {},
   "outputs": [
    {
     "data": {
      "text/html": [
       "<table class=\"data-frame\"><thead><tr><th></th><th>A</th><th>B</th></tr><tr><th></th><th>Int64</th><th>Int64</th></tr></thead><tbody><p>3 rows × 2 columns</p><tr><th>1</th><td>1</td><td>4</td></tr><tr><th>2</th><td>2</td><td>5</td></tr><tr><th>3</th><td>3</td><td>6</td></tr></tbody></table>"
      ],
      "text/latex": [
       "\\begin{tabular}{r|cc}\n",
       "\t& A & B\\\\\n",
       "\t\\hline\n",
       "\t& Int64 & Int64\\\\\n",
       "\t\\hline\n",
       "\t1 & 1 & 4 \\\\\n",
       "\t2 & 2 & 5 \\\\\n",
       "\t3 & 3 & 6 \\\\\n",
       "\\end{tabular}\n"
      ],
      "text/plain": [
       "3×2 DataFrames.DataFrame\n",
       "│ Row │ A     │ B     │\n",
       "│     │ \u001b[90mInt64\u001b[39m │ \u001b[90mInt64\u001b[39m │\n",
       "├─────┼───────┼───────┤\n",
       "│ 1   │ 1     │ 4     │\n",
       "│ 2   │ 2     │ 5     │\n",
       "│ 3   │ 3     │ 6     │"
      ]
     },
     "execution_count": 26,
     "metadata": {},
     "output_type": "execute_result"
    }
   ],
   "source": [
    "@rget tt03"
   ]
  },
  {
   "cell_type": "code",
   "execution_count": 27,
   "metadata": {},
   "outputs": [
    {
     "data": {
      "text/html": [
       "<table class=\"data-frame\"><thead><tr><th></th><th>A</th><th>B</th></tr><tr><th></th><th>Int64</th><th>Int64</th></tr></thead><tbody><p>3 rows × 2 columns</p><tr><th>1</th><td>1</td><td>4</td></tr><tr><th>2</th><td>2</td><td>5</td></tr><tr><th>3</th><td>3</td><td>6</td></tr></tbody></table>"
      ],
      "text/latex": [
       "\\begin{tabular}{r|cc}\n",
       "\t& A & B\\\\\n",
       "\t\\hline\n",
       "\t& Int64 & Int64\\\\\n",
       "\t\\hline\n",
       "\t1 & 1 & 4 \\\\\n",
       "\t2 & 2 & 5 \\\\\n",
       "\t3 & 3 & 6 \\\\\n",
       "\\end{tabular}\n"
      ],
      "text/plain": [
       "3×2 DataFrames.DataFrame\n",
       "│ Row │ A     │ B     │\n",
       "│     │ \u001b[90mInt64\u001b[39m │ \u001b[90mInt64\u001b[39m │\n",
       "├─────┼───────┼───────┤\n",
       "│ 1   │ 1     │ 4     │\n",
       "│ 2   │ 2     │ 5     │\n",
       "│ 3   │ 3     │ 6     │"
      ]
     },
     "execution_count": 27,
     "metadata": {},
     "output_type": "execute_result"
    }
   ],
   "source": [
    "tt03"
   ]
  }
 ],
 "metadata": {
  "kernelspec": {
   "display_name": "Julia 1.4.0",
   "language": "julia",
   "name": "julia-1.4"
  },
  "language_info": {
   "file_extension": ".jl",
   "mimetype": "application/julia",
   "name": "julia",
   "version": "1.4.0"
  }
 },
 "nbformat": 4,
 "nbformat_minor": 2
}
