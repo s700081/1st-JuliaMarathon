{
 "cells": [
  {
   "cell_type": "markdown",
   "metadata": {},
   "source": [
    "# Julia 深度學習：卷積神經網路模型簡介\n",
    "\n",
    "## 作業 033：訓練 CNN 學習門牌號碼資料集\n",
    "\n",
    "訓練一個 CNN 模型來學習門牌號碼資料集。"
   ]
  },
  {
   "cell_type": "code",
   "execution_count": 1,
   "metadata": {},
   "outputs": [],
   "source": [
    "using Flux\n",
    "using Flux.Data: DataLoader\n",
    "using Flux: @epochs, onecold, onehotbatch, throttle, logitcrossentropy\n",
    "using MLDatasets\n",
    "using Statistics"
   ]
  },
  {
   "cell_type": "markdown",
   "metadata": {},
   "source": [
    "## 讀取資料"
   ]
  },
  {
   "cell_type": "code",
   "execution_count": 2,
   "metadata": {},
   "outputs": [
    {
     "data": {
      "text/plain": [
       "(Float32[0.14901961 0.15294118 … 0.19607843 0.1882353; 0.15294118 0.15294118 … 0.2 0.1882353; … ; 0.16470589 0.16862746 … 0.1764706 0.17254902; 0.15294118 0.15294118 … 0.16470589 0.16470589]\n",
       "\n",
       "Float32[0.40392157 0.40784314 … 0.45882353 0.4509804; 0.40784314 0.40784314 … 0.4627451 0.4509804; … ; 0.40392157 0.39607844 … 0.45490196 0.4509804; 0.38039216 0.38039216 … 0.44313726 0.44313726]\n",
       "\n",
       "Float32[0.23529412 0.23921569 … 0.29803923 0.2901961; 0.23921569 0.23921569 … 0.3019608 0.2901961; … ; 0.24313726 0.24705882 … 0.28235295 0.2784314; 0.22352941 0.22352941 … 0.27058825 0.2784314]\n",
       "\n",
       "Float32[0.5058824 0.5254902 … 0.5411765 0.5137255; 0.49803922 0.52156866 … 0.50980395 0.47843137; … ; 0.48235294 0.49411765 … 0.39607844 0.43529412; 0.48235294 0.49019608 … 0.4392157 0.48235294]\n",
       "\n",
       "Float32[0.5568628 0.5882353 … 0.59607846 0.5686275; 0.56078434 0.58431375 … 0.5647059 0.53333336; … ; 0.5254902 0.5372549 … 0.41960785 0.4627451; 0.5294118 0.5372549 … 0.4627451 0.50980395]\n",
       "\n",
       "Float32[0.6 0.627451 … 0.64705884 0.61960787; 0.59607846 0.61960787 … 0.6156863 0.58431375; … ; 0.6117647 0.6156863 … 0.5254902 0.5647059; 0.6156863 0.61960787 … 0.5647059 0.6117647]\n",
       "\n",
       "Float32[0.5882353 0.5882353 … 0.5764706 0.62352943; 0.5882353 0.5921569 … 0.5764706 0.62352943; … ; 0.5882353 0.6 … 0.54509807 0.59607846; 0.5764706 0.5882353 … 0.5411765 0.59607846]\n",
       "\n",
       "Float32[0.627451 0.627451 … 0.64705884 0.69411767; 0.6392157 0.6392157 … 0.6431373 0.69411767; … ; 0.67058825 0.67058825 … 0.60784316 0.65882355; 0.6627451 0.6627451 … 0.60784316 0.65882355]\n",
       "\n",
       "Float32[0.6627451 0.6627451 … 0.7019608 0.7411765; 0.6666667 0.6627451 … 0.7019608 0.74509805; … ; 0.70980394 0.7058824 … 0.6666667 0.7137255; 0.7058824 0.7019608 … 0.67058825 0.7176471]\n",
       "\n",
       "...\n",
       "\n",
       "Float32[0.4509804 0.47843137 … 0.45882353 0.5176471; 0.45490196 0.48235294 … 0.45882353 0.52156866; … ; 0.44705883 0.4627451 … 0.56078434 0.56078434; 0.4509804 0.46666667 … 0.5647059 0.5647059]\n",
       "\n",
       "Float32[0.5176471 0.54509807 … 0.47843137 0.5411765; 0.52156866 0.54901963 … 0.47843137 0.54901963; … ; 0.53333336 0.54509807 … 0.6117647 0.6117647; 0.53333336 0.54509807 … 0.6156863 0.6156863]\n",
       "\n",
       "Float32[0.5568628 0.5803922 … 0.5372549 0.59607846; 0.56078434 0.58431375 … 0.5372549 0.59607846; … ; 0.5568628 0.5686275 … 0.6431373 0.64705884; 0.56078434 0.57254905 … 0.64705884 0.64705884]\n",
       "\n",
       "Float32[0.3764706 0.3764706 … 0.38431373 0.38039216; 0.38039216 0.38039216 … 0.3882353 0.3882353; … ; 0.34117648 0.34117648 … 0.4627451 0.43529412; 0.34509805 0.34509805 … 0.43137255 0.40784314]\n",
       "\n",
       "Float32[0.25490198 0.25490198 … 0.2627451 0.25882354; 0.25490198 0.25490198 … 0.27450982 0.27058825; … ; 0.24313726 0.24705882 … 0.3882353 0.36078432; 0.24705882 0.2509804 … 0.35686275 0.33333334]\n",
       "\n",
       "Float32[0.18431373 0.1882353 … 0.18039216 0.1764706; 0.19215687 0.19607843 … 0.1882353 0.1882353; … ; 0.21568628 0.21176471 … 0.3254902 0.2901961; 0.21960784 0.21568628 … 0.29411766 0.26666668]\n",
       "\n",
       "Float32[0.39607844 0.42745098 … 0.40784314 0.37254903; 0.39215687 0.41960785 … 0.4117647 0.3764706; … ; 0.37254903 0.3647059 … 0.4 0.4; 0.3764706 0.3647059 … 0.4 0.4]\n",
       "\n",
       "Float32[0.29411766 0.32941177 … 0.3254902 0.28627452; 0.28627452 0.3137255 … 0.32941177 0.2901961; … ; 0.24705882 0.23921569 … 0.2784314 0.2784314; 0.2509804 0.23921569 … 0.2784314 0.2784314]\n",
       "\n",
       "Float32[0.23529412 0.27058825 … 0.2784314 0.24313726; 0.23529412 0.2627451 … 0.28627452 0.24705882; … ; 0.20392157 0.19607843 … 0.19607843 0.19607843; 0.2 0.19215687 … 0.19607843 0.19607843], [5, 2, 1, 10, 6, 1, 9, 1, 1, 8  …  1, 7, 1, 3, 6, 2, 2, 7, 6, 7])"
      ]
     },
     "execution_count": 2,
     "metadata": {},
     "output_type": "execute_result"
    }
   ],
   "source": [
    "train_X, train_y = SVHN2.traindata(Float32)\n",
    "test_X,  test_y  = SVHN2.testdata(Float32)"
   ]
  },
  {
   "cell_type": "code",
   "execution_count": 3,
   "metadata": {},
   "outputs": [
    {
     "data": {
      "text/plain": [
       "10×26032 Flux.OneHotMatrix{Array{Flux.OneHotVector,1}}:\n",
       " 0  0  1  0  0  1  0  1  1  0  0  0  0  …  1  0  1  0  1  0  0  0  0  0  0  0\n",
       " 0  1  0  0  0  0  0  0  0  0  0  0  0     0  0  0  0  0  0  0  1  1  0  0  0\n",
       " 0  0  0  0  0  0  0  0  0  0  1  0  0     0  0  0  0  0  1  0  0  0  0  0  0\n",
       " 0  0  0  0  0  0  0  0  0  0  0  0  0     0  0  0  0  0  0  0  0  0  0  0  0\n",
       " 1  0  0  0  0  0  0  0  0  0  0  0  1     0  0  0  0  0  0  0  0  0  0  0  0\n",
       " 0  0  0  0  1  0  0  0  0  0  0  1  0  …  0  0  0  0  0  0  1  0  0  0  1  0\n",
       " 0  0  0  0  0  0  0  0  0  0  0  0  0     0  0  0  1  0  0  0  0  0  1  0  1\n",
       " 0  0  0  0  0  0  0  0  0  1  0  0  0     0  0  0  0  0  0  0  0  0  0  0  0\n",
       " 0  0  0  0  0  0  1  0  0  0  0  0  0     0  0  0  0  0  0  0  0  0  0  0  0\n",
       " 0  0  0  1  0  0  0  0  0  0  0  0  0     0  1  0  0  0  0  0  0  0  0  0  0"
      ]
     },
     "execution_count": 3,
     "metadata": {},
     "output_type": "execute_result"
    }
   ],
   "source": [
    "train_y = onehotbatch(train_y, 1:10)\n",
    "test_y = onehotbatch(test_y, 1:10)"
   ]
  },
  {
   "cell_type": "markdown",
   "metadata": {},
   "source": [
    "## 資料切分為 minibatch"
   ]
  },
  {
   "cell_type": "code",
   "execution_count": 4,
   "metadata": {},
   "outputs": [
    {
     "data": {
      "text/plain": [
       "DataLoader((Float32[0.14901961 0.15294118 … 0.19607843 0.1882353; 0.15294118 0.15294118 … 0.2 0.1882353; … ; 0.16470589 0.16862746 … 0.1764706 0.17254902; 0.15294118 0.15294118 … 0.16470589 0.16470589]\n",
       "\n",
       "Float32[0.40392157 0.40784314 … 0.45882353 0.4509804; 0.40784314 0.40784314 … 0.4627451 0.4509804; … ; 0.40392157 0.39607844 … 0.45490196 0.4509804; 0.38039216 0.38039216 … 0.44313726 0.44313726]\n",
       "\n",
       "Float32[0.23529412 0.23921569 … 0.29803923 0.2901961; 0.23921569 0.23921569 … 0.3019608 0.2901961; … ; 0.24313726 0.24705882 … 0.28235295 0.2784314; 0.22352941 0.22352941 … 0.27058825 0.2784314]\n",
       "\n",
       "Float32[0.5058824 0.5254902 … 0.5411765 0.5137255; 0.49803922 0.52156866 … 0.50980395 0.47843137; … ; 0.48235294 0.49411765 … 0.39607844 0.43529412; 0.48235294 0.49019608 … 0.4392157 0.48235294]\n",
       "\n",
       "Float32[0.5568628 0.5882353 … 0.59607846 0.5686275; 0.56078434 0.58431375 … 0.5647059 0.53333336; … ; 0.5254902 0.5372549 … 0.41960785 0.4627451; 0.5294118 0.5372549 … 0.4627451 0.50980395]\n",
       "\n",
       "Float32[0.6 0.627451 … 0.64705884 0.61960787; 0.59607846 0.61960787 … 0.6156863 0.58431375; … ; 0.6117647 0.6156863 … 0.5254902 0.5647059; 0.6156863 0.61960787 … 0.5647059 0.6117647]\n",
       "\n",
       "Float32[0.5882353 0.5882353 … 0.5764706 0.62352943; 0.5882353 0.5921569 … 0.5764706 0.62352943; … ; 0.5882353 0.6 … 0.54509807 0.59607846; 0.5764706 0.5882353 … 0.5411765 0.59607846]\n",
       "\n",
       "Float32[0.627451 0.627451 … 0.64705884 0.69411767; 0.6392157 0.6392157 … 0.6431373 0.69411767; … ; 0.67058825 0.67058825 … 0.60784316 0.65882355; 0.6627451 0.6627451 … 0.60784316 0.65882355]\n",
       "\n",
       "Float32[0.6627451 0.6627451 … 0.7019608 0.7411765; 0.6666667 0.6627451 … 0.7019608 0.74509805; … ; 0.70980394 0.7058824 … 0.6666667 0.7137255; 0.7058824 0.7019608 … 0.67058825 0.7176471]\n",
       "\n",
       "...\n",
       "\n",
       "Float32[0.4509804 0.47843137 … 0.45882353 0.5176471; 0.45490196 0.48235294 … 0.45882353 0.52156866; … ; 0.44705883 0.4627451 … 0.56078434 0.56078434; 0.4509804 0.46666667 … 0.5647059 0.5647059]\n",
       "\n",
       "Float32[0.5176471 0.54509807 … 0.47843137 0.5411765; 0.52156866 0.54901963 … 0.47843137 0.54901963; … ; 0.53333336 0.54509807 … 0.6117647 0.6117647; 0.53333336 0.54509807 … 0.6156863 0.6156863]\n",
       "\n",
       "Float32[0.5568628 0.5803922 … 0.5372549 0.59607846; 0.56078434 0.58431375 … 0.5372549 0.59607846; … ; 0.5568628 0.5686275 … 0.6431373 0.64705884; 0.56078434 0.57254905 … 0.64705884 0.64705884]\n",
       "\n",
       "Float32[0.3764706 0.3764706 … 0.38431373 0.38039216; 0.38039216 0.38039216 … 0.3882353 0.3882353; … ; 0.34117648 0.34117648 … 0.4627451 0.43529412; 0.34509805 0.34509805 … 0.43137255 0.40784314]\n",
       "\n",
       "Float32[0.25490198 0.25490198 … 0.2627451 0.25882354; 0.25490198 0.25490198 … 0.27450982 0.27058825; … ; 0.24313726 0.24705882 … 0.3882353 0.36078432; 0.24705882 0.2509804 … 0.35686275 0.33333334]\n",
       "\n",
       "Float32[0.18431373 0.1882353 … 0.18039216 0.1764706; 0.19215687 0.19607843 … 0.1882353 0.1882353; … ; 0.21568628 0.21176471 … 0.3254902 0.2901961; 0.21960784 0.21568628 … 0.29411766 0.26666668]\n",
       "\n",
       "Float32[0.39607844 0.42745098 … 0.40784314 0.37254903; 0.39215687 0.41960785 … 0.4117647 0.3764706; … ; 0.37254903 0.3647059 … 0.4 0.4; 0.3764706 0.3647059 … 0.4 0.4]\n",
       "\n",
       "Float32[0.29411766 0.32941177 … 0.3254902 0.28627452; 0.28627452 0.3137255 … 0.32941177 0.2901961; … ; 0.24705882 0.23921569 … 0.2784314 0.2784314; 0.2509804 0.23921569 … 0.2784314 0.2784314]\n",
       "\n",
       "Float32[0.23529412 0.27058825 … 0.2784314 0.24313726; 0.23529412 0.2627451 … 0.28627452 0.24705882; … ; 0.20392157 0.19607843 … 0.19607843 0.19607843; 0.2 0.19215687 … 0.19607843 0.19607843], Bool[0 0 … 0 0; 0 1 … 0 0; … ; 0 0 … 0 0; 0 0 … 0 0]), 1024, 26032, true, 26032, [1, 2, 3, 4, 5, 6, 7, 8, 9, 10  …  26023, 26024, 26025, 26026, 26027, 26028, 26029, 26030, 26031, 26032], false)"
      ]
     },
     "execution_count": 4,
     "metadata": {},
     "output_type": "execute_result"
    }
   ],
   "source": [
    "batchsize = 1024\n",
    "train = DataLoader(train_X, train_y, batchsize=batchsize, shuffle=true)\n",
    "test = DataLoader(test_X, test_y, batchsize=batchsize)"
   ]
  },
  {
   "cell_type": "markdown",
   "metadata": {},
   "source": [
    "## CNN 模型"
   ]
  },
  {
   "cell_type": "code",
   "execution_count": 35,
   "metadata": {},
   "outputs": [
    {
     "data": {
      "text/plain": [
       "Chain(Conv((3, 3), 3=>32, relu), MaxPool((2, 2), pad = (0, 0, 0, 0), stride = (2, 2)), Conv((3, 3), 32=>32, relu), MaxPool((2, 2), pad = (0, 0, 0, 0), stride = (2, 2)), Conv((3, 3), 32=>64, relu), MaxPool((2, 2), pad = (0, 0, 0, 0), stride = (2, 2)), flatten, Dense(1024, 256, relu), Dense(256, 10), softmax)"
      ]
     },
     "execution_count": 35,
     "metadata": {},
     "output_type": "execute_result"
    }
   ],
   "source": [
    "model = Chain(\n",
    "    Conv((3, 3), 3 => 32, pad = (1, 1), relu),\n",
    "    MaxPool((2, 2)),\n",
    "    Conv((3, 3), 32 => 32, pad = (1, 1), relu),\n",
    "    MaxPool((2, 2)),\n",
    "    Conv((3, 3), 32 => 64, pad = (1, 1), relu),\n",
    "    MaxPool((2, 2)),\n",
    "    flatten,\n",
    "    Dense(1024, 256, relu),\n",
    "    Dense(256, 10),\n",
    "    softmax) # write your model here"
   ]
  },
  {
   "cell_type": "markdown",
   "metadata": {},
   "source": [
    "## 使用CUDA"
   ]
  },
  {
   "cell_type": "code",
   "execution_count": 36,
   "metadata": {},
   "outputs": [
    {
     "data": {
      "text/plain": [
       "10×26032 Flux.OneHotMatrix{Array{Flux.OneHotVector,1}}:\n",
       " 0  0  1  0  0  1  0  1  1  0  0  0  0  …  1  0  1  0  1  0  0  0  0  0  0  0\n",
       " 0  1  0  0  0  0  0  0  0  0  0  0  0     0  0  0  0  0  0  0  1  1  0  0  0\n",
       " 0  0  0  0  0  0  0  0  0  0  1  0  0     0  0  0  0  0  1  0  0  0  0  0  0\n",
       " 0  0  0  0  0  0  0  0  0  0  0  0  0     0  0  0  0  0  0  0  0  0  0  0  0\n",
       " 1  0  0  0  0  0  0  0  0  0  0  0  1     0  0  0  0  0  0  0  0  0  0  0  0\n",
       " 0  0  0  0  1  0  0  0  0  0  0  1  0  …  0  0  0  0  0  0  1  0  0  0  1  0\n",
       " 0  0  0  0  0  0  0  0  0  0  0  0  0     0  0  0  1  0  0  0  0  0  1  0  1\n",
       " 0  0  0  0  0  0  0  0  0  1  0  0  0     0  0  0  0  0  0  0  0  0  0  0  0\n",
       " 0  0  0  0  0  0  1  0  0  0  0  0  0     0  0  0  0  0  0  0  0  0  0  0  0\n",
       " 0  0  0  1  0  0  0  0  0  0  0  0  0     0  1  0  0  0  0  0  0  0  0  0  0"
      ]
     },
     "execution_count": 36,
     "metadata": {},
     "output_type": "execute_result"
    }
   ],
   "source": [
    "using CuArrays\n",
    "model = model |> gpu\n",
    "train_X = train_X |> gpu\n",
    "train_y = train_y |> gpu\n",
    "test_X = test_X |> gpu\n",
    "test_y =test_y |> gpu"
   ]
  },
  {
   "cell_type": "markdown",
   "metadata": {},
   "source": [
    "## 損失函數"
   ]
  },
  {
   "cell_type": "code",
   "execution_count": 37,
   "metadata": {},
   "outputs": [
    {
     "data": {
      "text/plain": [
       "loss (generic function with 1 method)"
      ]
     },
     "execution_count": 37,
     "metadata": {},
     "output_type": "execute_result"
    }
   ],
   "source": [
    "loss(x, y) = logitcrossentropy(model(x), y)"
   ]
  },
  {
   "cell_type": "markdown",
   "metadata": {},
   "source": [
    "## Callback 函式"
   ]
  },
  {
   "cell_type": "code",
   "execution_count": 38,
   "metadata": {},
   "outputs": [
    {
     "data": {
      "text/plain": [
       "test_loss (generic function with 1 method)"
      ]
     },
     "execution_count": 38,
     "metadata": {},
     "output_type": "execute_result"
    }
   ],
   "source": [
    "function test_loss()\n",
    "    l = 0f0\n",
    "    for (x, y) in test\n",
    "        l += loss(x, y)\n",
    "    end\n",
    "    l/ length(test)\n",
    "end"
   ]
  },
  {
   "cell_type": "code",
   "execution_count": 39,
   "metadata": {},
   "outputs": [
    {
     "data": {
      "text/plain": [
       "evalcb (generic function with 1 method)"
      ]
     },
     "execution_count": 39,
     "metadata": {},
     "output_type": "execute_result"
    }
   ],
   "source": [
    "evalcb() = @show(test_loss())"
   ]
  },
  {
   "cell_type": "markdown",
   "metadata": {},
   "source": [
    "## 模型訓練"
   ]
  },
  {
   "cell_type": "code",
   "execution_count": 40,
   "metadata": {},
   "outputs": [
    {
     "name": "stderr",
     "output_type": "stream",
     "text": [
      "┌ Info: Epoch 1\n",
      "└ @ Main C:\\Users\\ocean_chou\\.julia\\packages\\Flux\\Fj3bt\\src\\optimise\\train.jl:121\n"
     ]
    },
    {
     "name": "stdout",
     "output_type": "stream",
     "text": [
      "test_loss() = 2.2649012f0\n",
      "test_loss() = 2.2648966f0\n",
      "test_loss() = 2.2648966f0\n",
      "test_loss() = 2.2648966f0\n",
      "test_loss() = 2.2648966f0\n",
      "test_loss() = 2.2648966f0\n",
      "test_loss() = 2.2648966f0\n",
      "test_loss() = 2.2648966f0\n",
      "test_loss() = 2.2648966f0\n",
      "test_loss() = 2.2648966f0\n",
      "test_loss() = 2.2648966f0\n",
      "test_loss() = 2.2648966f0\n",
      "test_loss() = 2.2648966f0\n",
      "test_loss() = 2.2648966f0\n",
      "test_loss() = 2.2648966f0\n"
     ]
    },
    {
     "name": "stderr",
     "output_type": "stream",
     "text": [
      "┌ Info: Epoch 2\n",
      "└ @ Main C:\\Users\\ocean_chou\\.julia\\packages\\Flux\\Fj3bt\\src\\optimise\\train.jl:121\n"
     ]
    },
    {
     "name": "stdout",
     "output_type": "stream",
     "text": [
      "test_loss() = 2.2648966f0\n",
      "test_loss() = 2.2648966f0\n",
      "test_loss() = 2.2648966f0\n",
      "test_loss() = 2.2648966f0\n",
      "test_loss() = 2.2648966f0\n",
      "test_loss() = 2.2648966f0\n",
      "test_loss() = 2.2648966f0\n",
      "test_loss() = 2.2648966f0\n",
      "test_loss() = 2.2648966f0\n",
      "test_loss() = 2.2648966f0\n",
      "test_loss() = 2.2648966f0\n",
      "test_loss() = 2.2648966f0\n",
      "test_loss() = 2.2648966f0\n",
      "test_loss() = 2.2648966f0\n",
      "test_loss() = 2.2648966f0\n"
     ]
    },
    {
     "name": "stderr",
     "output_type": "stream",
     "text": [
      "┌ Info: Epoch 3\n",
      "└ @ Main C:\\Users\\ocean_chou\\.julia\\packages\\Flux\\Fj3bt\\src\\optimise\\train.jl:121\n"
     ]
    },
    {
     "name": "stdout",
     "output_type": "stream",
     "text": [
      "test_loss() = 2.2648966f0\n",
      "test_loss() = 2.2648966f0\n",
      "test_loss() = 2.2648966f0\n",
      "test_loss() = 2.2648966f0\n",
      "test_loss() = 2.2648966f0\n",
      "test_loss() = 2.2648966f0\n",
      "test_loss() = 2.2648966f0\n",
      "test_loss() = 2.2648966f0\n",
      "test_loss() = 2.2648966f0\n",
      "test_loss() = 2.2648966f0\n",
      "test_loss() = 2.2648966f0\n",
      "test_loss() = 2.2648966f0\n",
      "test_loss() = 2.2648966f0\n",
      "test_loss() = 2.2648966f0\n",
      "test_loss() = 2.2648966f0\n"
     ]
    },
    {
     "name": "stderr",
     "output_type": "stream",
     "text": [
      "┌ Info: Epoch 4\n",
      "└ @ Main C:\\Users\\ocean_chou\\.julia\\packages\\Flux\\Fj3bt\\src\\optimise\\train.jl:121\n"
     ]
    },
    {
     "name": "stdout",
     "output_type": "stream",
     "text": [
      "test_loss() = 2.2648966f0\n",
      "test_loss() = 2.2648966f0\n",
      "test_loss() = 2.2648966f0\n",
      "test_loss() = 2.2648966f0\n",
      "test_loss() = 2.2648966f0\n",
      "test_loss() = 2.2648966f0\n",
      "test_loss() = 2.2648966f0\n",
      "test_loss() = 2.2648966f0\n",
      "test_loss() = 2.2648966f0\n",
      "test_loss() = 2.2648966f0\n",
      "test_loss() = 2.2648966f0\n",
      "test_loss() = 2.2648966f0\n",
      "test_loss() = 2.2648966f0\n",
      "test_loss() = 2.2648966f0\n",
      "test_loss() = 2.2648966f0\n"
     ]
    },
    {
     "name": "stderr",
     "output_type": "stream",
     "text": [
      "┌ Info: Epoch 5\n",
      "└ @ Main C:\\Users\\ocean_chou\\.julia\\packages\\Flux\\Fj3bt\\src\\optimise\\train.jl:121\n"
     ]
    },
    {
     "name": "stdout",
     "output_type": "stream",
     "text": [
      "test_loss() = 2.2648966f0\n",
      "test_loss() = 2.2648966f0\n",
      "test_loss() = 2.2648966f0\n",
      "test_loss() = 2.2648966f0\n",
      "test_loss() = 2.2648966f0\n",
      "test_loss() = 2.2648966f0\n",
      "test_loss() = 2.2648966f0\n",
      "test_loss() = 2.2648966f0\n",
      "test_loss() = 2.2648966f0\n",
      "test_loss() = 2.2648966f0\n",
      "test_loss() = 2.2648966f0\n",
      "test_loss() = 2.2648966f0\n",
      "test_loss() = 2.2648966f0\n",
      "test_loss() = 2.2648966f0\n",
      "test_loss() = 2.2648966f0\n"
     ]
    },
    {
     "name": "stderr",
     "output_type": "stream",
     "text": [
      "┌ Info: Epoch 6\n",
      "└ @ Main C:\\Users\\ocean_chou\\.julia\\packages\\Flux\\Fj3bt\\src\\optimise\\train.jl:121\n"
     ]
    },
    {
     "name": "stdout",
     "output_type": "stream",
     "text": [
      "test_loss() = 2.2648966f0\n",
      "test_loss() = 2.2648966f0\n",
      "test_loss() = 2.2648966f0\n",
      "test_loss() = 2.2648966f0\n",
      "test_loss() = 2.2648966f0\n",
      "test_loss() = 2.2648966f0\n",
      "test_loss() = 2.2648966f0\n",
      "test_loss() = 2.2648966f0\n",
      "test_loss() = 2.2648966f0\n",
      "test_loss() = 2.2648966f0\n",
      "test_loss() = 2.2648966f0\n",
      "test_loss() = 2.2648966f0\n",
      "test_loss() = 2.2648966f0\n",
      "test_loss() = 2.2648966f0\n",
      "test_loss() = 2.2648966f0\n"
     ]
    },
    {
     "name": "stderr",
     "output_type": "stream",
     "text": [
      "┌ Info: Epoch 7\n",
      "└ @ Main C:\\Users\\ocean_chou\\.julia\\packages\\Flux\\Fj3bt\\src\\optimise\\train.jl:121\n"
     ]
    },
    {
     "name": "stdout",
     "output_type": "stream",
     "text": [
      "test_loss() = 2.2648966f0\n",
      "test_loss() = 2.2648966f0\n",
      "test_loss() = 2.2648966f0\n",
      "test_loss() = 2.2648966f0\n",
      "test_loss() = 2.2648966f0\n",
      "test_loss() = 2.2648966f0\n",
      "test_loss() = 2.2648966f0\n",
      "test_loss() = 2.2648966f0\n",
      "test_loss() = 2.2648966f0\n",
      "test_loss() = 2.2648966f0\n",
      "test_loss() = 2.2648966f0\n",
      "test_loss() = 2.2648966f0\n",
      "test_loss() = 2.2648966f0\n",
      "test_loss() = 2.2648966f0\n",
      "test_loss() = 2.2648966f0\n"
     ]
    },
    {
     "name": "stderr",
     "output_type": "stream",
     "text": [
      "┌ Info: Epoch 8\n",
      "└ @ Main C:\\Users\\ocean_chou\\.julia\\packages\\Flux\\Fj3bt\\src\\optimise\\train.jl:121\n"
     ]
    },
    {
     "name": "stdout",
     "output_type": "stream",
     "text": [
      "test_loss() = 2.2648966f0\n",
      "test_loss() = 2.2648966f0\n",
      "test_loss() = 2.2648966f0\n",
      "test_loss() = 2.2648966f0\n",
      "test_loss() = 2.2648966f0\n",
      "test_loss() = 2.2648966f0\n",
      "test_loss() = 2.2648966f0\n",
      "test_loss() = 2.2648966f0\n",
      "test_loss() = 2.2648966f0\n",
      "test_loss() = 2.2648966f0\n",
      "test_loss() = 2.2648966f0\n",
      "test_loss() = 2.2648966f0\n",
      "test_loss() = 2.2648966f0\n",
      "test_loss() = 2.2648966f0\n",
      "test_loss() = 2.2648966f0\n"
     ]
    },
    {
     "name": "stderr",
     "output_type": "stream",
     "text": [
      "┌ Info: Epoch 9\n",
      "└ @ Main C:\\Users\\ocean_chou\\.julia\\packages\\Flux\\Fj3bt\\src\\optimise\\train.jl:121\n"
     ]
    },
    {
     "name": "stdout",
     "output_type": "stream",
     "text": [
      "test_loss() = 2.2648966f0\n",
      "test_loss() = 2.2648966f0\n",
      "test_loss() = 2.2648966f0\n",
      "test_loss() = 2.2648966f0\n",
      "test_loss() = 2.2648966f0\n",
      "test_loss() = 2.2648966f0\n",
      "test_loss() = 2.2648966f0\n",
      "test_loss() = 2.2648966f0\n",
      "test_loss() = 2.2648966f0\n",
      "test_loss() = 2.2648966f0\n",
      "test_loss() = 2.2648966f0\n",
      "test_loss() = 2.2648966f0\n",
      "test_loss() = 2.2648966f0\n",
      "test_loss() = 2.2648966f0\n",
      "test_loss() = 2.2648966f0\n"
     ]
    },
    {
     "name": "stderr",
     "output_type": "stream",
     "text": [
      "┌ Info: Epoch 10\n",
      "└ @ Main C:\\Users\\ocean_chou\\.julia\\packages\\Flux\\Fj3bt\\src\\optimise\\train.jl:121\n"
     ]
    },
    {
     "name": "stdout",
     "output_type": "stream",
     "text": [
      "test_loss() = 2.2648966f0\n",
      "test_loss() = 2.2648966f0\n",
      "test_loss() = 2.2648966f0\n",
      "test_loss() = 2.2648966f0\n",
      "test_loss() = 2.2648966f0\n",
      "test_loss() = 2.2648966f0\n",
      "test_loss() = 2.2648966f0\n",
      "test_loss() = 2.2648966f0\n",
      "test_loss() = 2.2648966f0\n",
      "test_loss() = 2.2648966f0\n",
      "test_loss() = 2.2648966f0\n",
      "test_loss() = 2.2648966f0\n",
      "test_loss() = 2.2648966f0\n",
      "test_loss() = 2.2648966f0\n",
      "test_loss() = 2.2648966f0\n"
     ]
    },
    {
     "name": "stderr",
     "output_type": "stream",
     "text": [
      "┌ Info: Epoch 11\n",
      "└ @ Main C:\\Users\\ocean_chou\\.julia\\packages\\Flux\\Fj3bt\\src\\optimise\\train.jl:121\n"
     ]
    },
    {
     "name": "stdout",
     "output_type": "stream",
     "text": [
      "test_loss() = 2.2648966f0\n",
      "test_loss() = 2.2648966f0\n",
      "test_loss() = 2.2648966f0\n",
      "test_loss() = 2.2648966f0\n",
      "test_loss() = 2.2648966f0\n",
      "test_loss() = 2.2648966f0\n",
      "test_loss() = 2.2648966f0\n",
      "test_loss() = 2.2648966f0\n",
      "test_loss() = 2.2648966f0\n",
      "test_loss() = 2.2648966f0\n",
      "test_loss() = 2.2648966f0\n",
      "test_loss() = 2.2648966f0\n",
      "test_loss() = 2.2648966f0\n",
      "test_loss() = 2.2648966f0\n",
      "test_loss() = 2.2648966f0\n"
     ]
    },
    {
     "name": "stderr",
     "output_type": "stream",
     "text": [
      "┌ Info: Epoch 12\n",
      "└ @ Main C:\\Users\\ocean_chou\\.julia\\packages\\Flux\\Fj3bt\\src\\optimise\\train.jl:121\n"
     ]
    },
    {
     "name": "stdout",
     "output_type": "stream",
     "text": [
      "test_loss() = 2.2648966f0\n",
      "test_loss() = 2.2648966f0\n",
      "test_loss() = 2.2648966f0\n",
      "test_loss() = 2.2648966f0\n",
      "test_loss() = 2.2648966f0\n",
      "test_loss() = 2.2648966f0\n",
      "test_loss() = 2.2648966f0\n",
      "test_loss() = 2.2648966f0\n",
      "test_loss() = 2.2648966f0\n",
      "test_loss() = 2.2648966f0\n",
      "test_loss() = 2.2648966f0\n",
      "test_loss() = 2.2648966f0\n",
      "test_loss() = 2.2648966f0\n",
      "test_loss() = 2.2648966f0\n"
     ]
    },
    {
     "name": "stderr",
     "output_type": "stream",
     "text": [
      "┌ Info: Epoch 13\n",
      "└ @ Main C:\\Users\\ocean_chou\\.julia\\packages\\Flux\\Fj3bt\\src\\optimise\\train.jl:121\n"
     ]
    },
    {
     "name": "stdout",
     "output_type": "stream",
     "text": [
      "test_loss() = 2.2648966f0\n",
      "test_loss() = 2.2648966f0\n",
      "test_loss() = 2.2648966f0\n",
      "test_loss() = 2.2648966f0\n",
      "test_loss() = 2.2648966f0\n",
      "test_loss() = 2.2648966f0\n",
      "test_loss() = 2.2648966f0\n",
      "test_loss() = 2.2648966f0\n",
      "test_loss() = 2.2648966f0\n",
      "test_loss() = 2.2648966f0\n",
      "test_loss() = 2.2648966f0\n",
      "test_loss() = 2.2648966f0\n",
      "test_loss() = 2.2648966f0\n",
      "test_loss() = 2.2648966f0\n",
      "test_loss() = 2.2648966f0\n"
     ]
    },
    {
     "name": "stderr",
     "output_type": "stream",
     "text": [
      "┌ Info: Epoch 14\n",
      "└ @ Main C:\\Users\\ocean_chou\\.julia\\packages\\Flux\\Fj3bt\\src\\optimise\\train.jl:121\n"
     ]
    },
    {
     "name": "stdout",
     "output_type": "stream",
     "text": [
      "test_loss() = 2.2648966f0\n",
      "test_loss() = 2.2648966f0\n",
      "test_loss() = 2.2648966f0\n",
      "test_loss() = 2.2648966f0\n",
      "test_loss() = 2.2648966f0\n",
      "test_loss() = 2.2648966f0\n",
      "test_loss() = 2.2648966f0\n",
      "test_loss() = 2.2648966f0\n",
      "test_loss() = 2.2648966f0\n",
      "test_loss() = 2.2648966f0\n",
      "test_loss() = 2.2648966f0\n",
      "test_loss() = 2.2648966f0\n",
      "test_loss() = 2.2648966f0\n",
      "test_loss() = 2.2648966f0\n",
      "test_loss() = 2.2648966f0\n"
     ]
    },
    {
     "name": "stderr",
     "output_type": "stream",
     "text": [
      "┌ Info: Epoch 15\n",
      "└ @ Main C:\\Users\\ocean_chou\\.julia\\packages\\Flux\\Fj3bt\\src\\optimise\\train.jl:121\n"
     ]
    },
    {
     "name": "stdout",
     "output_type": "stream",
     "text": [
      "test_loss() = 2.2648966f0\n",
      "test_loss() = 2.2648966f0\n",
      "test_loss() = 2.2648966f0\n",
      "test_loss() = 2.2648966f0\n",
      "test_loss() = 2.2648966f0\n",
      "test_loss() = 2.2648966f0\n",
      "test_loss() = 2.2648966f0\n",
      "test_loss() = 2.2648966f0\n",
      "test_loss() = 2.2648966f0\n",
      "test_loss() = 2.2648966f0\n",
      "test_loss() = 2.2648966f0\n",
      "test_loss() = 2.2648966f0\n",
      "test_loss() = 2.2648966f0\n",
      "test_loss() = 2.2648966f0\n"
     ]
    },
    {
     "name": "stderr",
     "output_type": "stream",
     "text": [
      "┌ Info: Epoch 16\n",
      "└ @ Main C:\\Users\\ocean_chou\\.julia\\packages\\Flux\\Fj3bt\\src\\optimise\\train.jl:121\n"
     ]
    },
    {
     "name": "stdout",
     "output_type": "stream",
     "text": [
      "test_loss() = 2.2648966f0\n",
      "test_loss() = 2.2648966f0\n",
      "test_loss() = 2.2648966f0\n",
      "test_loss() = 2.2648966f0\n",
      "test_loss() = 2.2648966f0\n",
      "test_loss() = 2.2648966f0\n",
      "test_loss() = 2.2648966f0\n",
      "test_loss() = 2.2648966f0\n",
      "test_loss() = 2.2648966f0\n",
      "test_loss() = 2.2648966f0\n",
      "test_loss() = 2.2648966f0\n",
      "test_loss() = 2.2648966f0\n",
      "test_loss() = 2.2648966f0\n",
      "test_loss() = 2.2648966f0\n"
     ]
    },
    {
     "name": "stderr",
     "output_type": "stream",
     "text": [
      "┌ Info: Epoch 17\n",
      "└ @ Main C:\\Users\\ocean_chou\\.julia\\packages\\Flux\\Fj3bt\\src\\optimise\\train.jl:121\n"
     ]
    },
    {
     "name": "stdout",
     "output_type": "stream",
     "text": [
      "test_loss() = 2.2648966f0\n",
      "test_loss() = 2.2648966f0\n",
      "test_loss() = 2.2648966f0\n",
      "test_loss() = 2.2648966f0\n",
      "test_loss() = 2.2648966f0\n",
      "test_loss() = 2.2648966f0\n",
      "test_loss() = 2.2648966f0\n",
      "test_loss() = 2.2648966f0\n",
      "test_loss() = 2.2648966f0\n",
      "test_loss() = 2.2648966f0\n",
      "test_loss() = 2.2648966f0\n",
      "test_loss() = 2.2648966f0\n",
      "test_loss() = 2.2648966f0\n",
      "test_loss() = 2.2648966f0\n"
     ]
    },
    {
     "name": "stderr",
     "output_type": "stream",
     "text": [
      "┌ Info: Epoch 18\n",
      "└ @ Main C:\\Users\\ocean_chou\\.julia\\packages\\Flux\\Fj3bt\\src\\optimise\\train.jl:121\n"
     ]
    },
    {
     "name": "stdout",
     "output_type": "stream",
     "text": [
      "test_loss() = 2.2648966f0\n",
      "test_loss() = 2.2648966f0\n",
      "test_loss() = 2.2648966f0\n",
      "test_loss() = 2.2648966f0\n",
      "test_loss() = 2.2648966f0\n",
      "test_loss() = 2.2648966f0\n",
      "test_loss() = 2.2648966f0\n",
      "test_loss() = 2.2648966f0\n",
      "test_loss() = 2.2648966f0\n",
      "test_loss() = 2.2648966f0\n",
      "test_loss() = 2.2648966f0\n",
      "test_loss() = 2.2648966f0\n",
      "test_loss() = 2.2648966f0\n",
      "test_loss() = 2.2648966f0\n"
     ]
    },
    {
     "name": "stderr",
     "output_type": "stream",
     "text": [
      "┌ Info: Epoch 19\n",
      "└ @ Main C:\\Users\\ocean_chou\\.julia\\packages\\Flux\\Fj3bt\\src\\optimise\\train.jl:121\n"
     ]
    },
    {
     "name": "stdout",
     "output_type": "stream",
     "text": [
      "test_loss() = 2.2648966f0\n",
      "test_loss() = 2.2648966f0\n",
      "test_loss() = 2.2648966f0\n",
      "test_loss() = 2.2648966f0\n",
      "test_loss() = 2.2648966f0\n",
      "test_loss() = 2.2648966f0\n",
      "test_loss() = 2.2648966f0\n",
      "test_loss() = 2.2648966f0\n",
      "test_loss() = 2.2648966f0\n",
      "test_loss() = 2.2648966f0\n",
      "test_loss() = 2.2648966f0\n",
      "test_loss() = 2.2648966f0\n",
      "test_loss() = 2.2648966f0\n",
      "test_loss() = 2.2648966f0\n"
     ]
    },
    {
     "name": "stderr",
     "output_type": "stream",
     "text": [
      "┌ Info: Epoch 20\n",
      "└ @ Main C:\\Users\\ocean_chou\\.julia\\packages\\Flux\\Fj3bt\\src\\optimise\\train.jl:121\n"
     ]
    },
    {
     "name": "stdout",
     "output_type": "stream",
     "text": [
      "test_loss() = 2.2648966f0\n",
      "test_loss() = 2.2648966f0\n",
      "test_loss() = 2.2648966f0\n",
      "test_loss() = 2.2648966f0\n",
      "test_loss() = 2.2648966f0\n",
      "test_loss() = 2.2648966f0\n",
      "test_loss() = 2.2648966f0\n",
      "test_loss() = 2.2648966f0\n",
      "test_loss() = 2.2648966f0\n",
      "test_loss() = 2.2648966f0\n",
      "test_loss() = 2.2648966f0\n",
      "test_loss() = 2.2648966f0\n",
      "test_loss() = 2.2648966f0\n",
      "test_loss() = 2.2648966f0\n",
      "test_loss() = 2.2648966f0\n"
     ]
    }
   ],
   "source": [
    "epochs = 20\n",
    "@epochs epochs Flux.train!(loss, params(model), train, ADAM(0.01), cb = throttle(evalcb, 10))"
   ]
  },
  {
   "cell_type": "markdown",
   "metadata": {},
   "source": [
    "## 模型評估"
   ]
  },
  {
   "cell_type": "code",
   "execution_count": 41,
   "metadata": {},
   "outputs": [
    {
     "data": {
      "text/plain": [
       "accuracy (generic function with 1 method)"
      ]
     },
     "execution_count": 41,
     "metadata": {},
     "output_type": "execute_result"
    }
   ],
   "source": [
    "accuracy(x, y) = mean(onecold(model(x)) .== onecold(y))"
   ]
  },
  {
   "cell_type": "code",
   "execution_count": 42,
   "metadata": {},
   "outputs": [
    {
     "data": {
      "text/plain": [
       "0.1958743085433313"
      ]
     },
     "execution_count": 42,
     "metadata": {},
     "output_type": "execute_result"
    }
   ],
   "source": [
    "accuracy(test_X, test_y)"
   ]
  },
  {
   "cell_type": "markdown",
   "metadata": {},
   "source": [
    "## 使用已預訓練好的模型"
   ]
  },
  {
   "cell_type": "code",
   "execution_count": null,
   "metadata": {},
   "outputs": [],
   "source": []
  }
 ],
 "metadata": {
  "kernelspec": {
   "display_name": "Julia 1.4.0",
   "language": "julia",
   "name": "julia-1.4"
  },
  "language_info": {
   "file_extension": ".jl",
   "mimetype": "application/julia",
   "name": "julia",
   "version": "1.4.0"
  }
 },
 "nbformat": 4,
 "nbformat_minor": 4
}
